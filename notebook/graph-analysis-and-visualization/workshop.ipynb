{
 "cells": [
  {
   "cell_type": "markdown",
   "id": "58ae3be6-268b-412a-8d37-d7d27fd5e66d",
   "metadata": {
    "jupyter": {
     "source_hidden": true
    },
    "tags": []
   },
   "source": [
    "# Using Dgraph to Explore the Offshore Leaks Dataset"
   ]
  },
  {
   "cell_type": "markdown",
   "id": "5e45fd84-45be-47e0-82a7-bedee006074a",
   "metadata": {},
   "source": [
    "## Analyzing the Raw Data\n",
    "\n",
    "#### [Overview of the Raw Data](https://github.com/dgraph-io/vlg/blob/main/notes/1.%20Raw%20Data%20Analysis.md)\n",
    "\n",
    "#### Data Normalization and Sanitizing\n",
    "\n",
    "* [CSVKit to the rescue, an example](https://github.com/dgraph-io/vlg/blob/main/notes/csvstat/entities.txt)\n",
    "* [1000 Bad Dates](https://github.com/dgraph-io/vlg/blob/ba577e1b65ae4dfa93a002ccd2009fea1113578b/tools/model/date_time.go#L19)\n",
    "* [Non-null nulls](https://github.com/dgraph-io/vlg/blob/ba577e1b65ae4dfa93a002ccd2009fea1113578b/tools/model/entity.go#LL29C2-L29C2)\n",
    "\n",
    "#### Storing Clean Data Transiently\n",
    "\n",
    "* [Use Badger to store temporarily results (aka the export before the import)](https://github.com/dgraph-io/vlg/blob/ba577e1b65ae4dfa93a002ccd2009fea1113578b/tools/preload/main.go#L22)"
   ]
  },
  {
   "cell_type": "markdown",
   "id": "370b83f1-27bc-4d55-9392-d9b0cebb5923",
   "metadata": {},
   "source": [
    "## Dgraph Schemas Overview\n",
    "\n",
    "Dgraph supports two types of schemas: DQL and GraphQL.\n",
    "\n",
    "* DQL is a predicate-first focused schema language that supports some aspects not yet supported by the GraphQL syntax such as multi-lingual predicates and facets (data information stored on edges between nodes)\n",
    "* GraphQL is a type-first focused schema language that only supports spec-compliant elements such as types, unions, and interfaces"
   ]
  },
  {
   "cell_type": "markdown",
   "id": "9e9d7692-c656-4a88-bae0-a5e317f3e86f",
   "metadata": {},
   "source": [
    "## Building a GraphQL Schema for the Offshore Leaks Dataset\n",
    "\n",
    "Questions first, schema second, [description](https://github.com/dgraph-io/vlg/blob/main/notes/2.%20Schema%20Design.md#schema-design-1)\n",
    "\n",
    "* full term, text, trigram search for names, [schema ref](https://github.com/dgraph-io/vlg/blob/ba577e1b65ae4dfa93a002ccd2009fea1113578b/schema/schema.graphql#L28)\n",
    "* restrict by source (Panama Papers, Paradise Papers), [schema ref](https://github.com/dgraph-io/vlg/blob/ba577e1b65ae4dfa93a002ccd2009fea1113578b/schema/schema.graphql#L4)\n",
    "* query by geo-coordinates, [schema ref](https://github.com/dgraph-io/vlg/blob/ba577e1b65ae4dfa93a002ccd2009fea1113578b/schema/schema.graphql#L162)"
   ]
  },
  {
   "cell_type": "code",
   "execution_count": null,
   "id": "86919c8b-bfb3-4494-93b6-885b26bd912d",
   "metadata": {},
   "outputs": [],
   "source": [
    "# Issue command to apply the Offshore Leaks schema\n",
    "!curl --data-binary '@./schema.graphql' http://localhost:8080/admin/schema"
   ]
  },
  {
   "cell_type": "markdown",
   "id": "4ecca42e-8ad5-483e-8dec-563a5f0deda8",
   "metadata": {},
   "source": [
    "## Importing RDF Data into Dgraph\n",
    "\n",
    "1. Geo-locate US address lines using the US Census Address REST API (~17,000 or ~71%) were successful\n",
    "2. Export the transient Badger data to RDF-format using tools written in Go. A subset was exported for today's workshop"
   ]
  },
  {
   "cell_type": "code",
   "execution_count": null,
   "id": "4fb8538f-3165-4d68-89ec-c49b8348ec4f",
   "metadata": {},
   "outputs": [],
   "source": [
    "# Invoke the Dgraph Live Loader to populate the graph\n",
    "!dgraph live -f ./data.rdf.gz"
   ]
  },
  {
   "cell_type": "markdown",
   "id": "abfe3545-17d0-4009-95f6-feddadd8397e",
   "metadata": {},
   "source": [
    "Dgraph supports two import formats (JSON and RDF). Dgraph provides two loading mechanisms (Live Loader and Bulk Loader)"
   ]
  },
  {
   "cell_type": "markdown",
   "id": "cb6a3747-91a6-4e4b-8309-d28880ff6415",
   "metadata": {},
   "source": [
    "----- time check t+25m ------"
   ]
  },
  {
   "cell_type": "markdown",
   "id": "12f6c5eb-22b6-485d-8300-ba5096d0f4f5",
   "metadata": {
    "tags": []
   },
   "source": [
    "### Imports and other Housekeeping"
   ]
  },
  {
   "cell_type": "code",
   "execution_count": 132,
   "id": "d8ed12cd-a3b3-4e95-977e-e6ace5c85697",
   "metadata": {
    "tags": []
   },
   "outputs": [],
   "source": [
    "import os\n",
    "import json\n",
    "import pandas as pd\n",
    "import multiprocessing\n",
    "\n",
    "from utils import *\n",
    "\n",
    "# the host or IP addr where your Dgraph alpha service is running\n",
    "dgraph_addr = \"localhost\"\n",
    "\n",
    "# load API keys, etc from .env file\n",
    "from dotenv import load_dotenv\n",
    "\n",
    "if not load_dotenv():\n",
    "    display(warning(\"No .env file found, some cells may not render correctly\"))\n",
    "    "
   ]
  },
  {
   "cell_type": "markdown",
   "id": "6964ad45-9550-41c1-900c-375bc5c53356",
   "metadata": {},
   "source": [
    "## Dgraph Queries and Mutations Overview\n",
    "\n",
    "### GraphQL\n",
    "* Dgraph autogenerates GraphQL API when schema updated\n",
    "* Standard - Use dozens of IDEs, online tools, clients\n",
    "\n",
    "For example, [Apollo Studio](https://studio.apollographql.com/sandbox/explorer?endpoint=http://localhost:8080/graphql)\n",
    "\n",
    "### DQL\n",
    "* Dgraph's native query language\n",
    "* Clients for most programming languages\n",
    "* Ratel: [https://play.dgraph.io](https://play.dgraph.io?latest)"
   ]
  },
  {
   "cell_type": "code",
   "execution_count": 135,
   "id": "1f22f7ea-871b-4dc2-9fd3-bbd4020994bb",
   "metadata": {
    "tags": []
   },
   "outputs": [
    {
     "name": "stdout",
     "output_type": "stream",
     "text": [
      "pydgraph client, check version: v22.0.2\n",
      "generic graphql client, check cluster health: {'status': 'healthy'}\n"
     ]
    }
   ],
   "source": [
    "# Create and connect a Dgraph DQL Client\n",
    "import pydgraph # official Dgraph python client\n",
    "\n",
    "client_stub = pydgraph.DgraphClientStub(addr='{}:9080'.format(dgraph_addr), options=[('grpc.max_receive_message_length', 1024*1024*1024)])\n",
    "client = pydgraph.DgraphClient(client_stub)\n",
    "print(\"pydgraph client, check version:\", client.check_version())\n",
    "\n",
    "# GraphQL client and admin client\n",
    "from python_graphql_client import GraphqlClient #  popular python GraphQL client\n",
    "\n",
    "gql_client = GraphqlClient(endpoint=\"http://{}:8080/graphql\".format(dgraph_addr))\n",
    "gql_admin_client = GraphqlClient(endpoint=\"http://{}:8080/admin\".format(dgraph_addr))\n",
    "data = gql_admin_client.execute(query=\"{health {status}}\")\n",
    "print(\"generic graphql client, check cluster health:\", data['data']['health'][0])"
   ]
  },
  {
   "cell_type": "markdown",
   "id": "a747e5f9-da2d-45c9-8939-15b89e0ab158",
   "metadata": {
    "tags": []
   },
   "source": [
    "### Issue a GraphQL Query"
   ]
  },
  {
   "cell_type": "code",
   "execution_count": 143,
   "id": "5b800b95-e071-450c-9a06-dbb136f7e72d",
   "metadata": {},
   "outputs": [
    {
     "name": "stdout",
     "output_type": "stream",
     "text": [
      "{\n",
      "  \"data\": {\n",
      "    \"paradisePapers\": {\n",
      "      \"count\": 72612\n",
      "    },\n",
      "    \"panamaPapers\": {\n",
      "      \"count\": 40295\n",
      "    },\n",
      "    \"bahamasLeaks\": {\n",
      "      \"count\": 10090\n",
      "    },\n",
      "    \"offshoreLeaks\": {\n",
      "      \"count\": 25682\n",
      "    },\n",
      "    \"pandoraPapers\": {\n",
      "      \"count\": 8315\n",
      "    },\n",
      "    \"total\": {\n",
      "      \"count\": 156994\n",
      "    }\n",
      "  }\n",
      "}\n",
      "CPU times: user 2.58 ms, sys: 17.6 ms, total: 20.2 ms\n",
      "Wall time: 727 ms\n"
     ]
    }
   ],
   "source": [
    "%%time\n",
    "\n",
    "# Issue a GraphQL Query to Get Record Counts\n",
    "query = \"\"\"\n",
    "query {\n",
    "    paradisePapers: aggregateRecord(filter: { sourceID: { eq: ParadisePapers } }) {count}\n",
    "    panamaPapers: aggregateRecord(filter: { sourceID: { eq: PanamaPapers } }) {count}\n",
    "    bahamasLeaks: aggregateRecord(filter: { sourceID: { eq: BahamasLeaks } }) {count}\n",
    "    offshoreLeaks: aggregateRecord(filter: { sourceID: { eq: OffshoreLeaks} }) {count}\n",
    "    pandoraPapers: aggregateRecord(filter: { sourceID: { eq: PandoraPapers} }) {count}\n",
    "    total: aggregateRecord() {count}\n",
    "}\n",
    "\"\"\"\n",
    "data = gql_client.execute(query=query)\n",
    "del data['extensions'] #drop the Dgraph metrics attributes\n",
    "print(json.dumps(data, indent=2))"
   ]
  },
  {
   "cell_type": "markdown",
   "id": "284ddd94-9313-44aa-b48d-a5f8b103d73a",
   "metadata": {
    "tags": []
   },
   "source": [
    "### Dgraph Query Funcs for Extracting Nodes and Edges from Query Results"
   ]
  },
  {
   "cell_type": "code",
   "execution_count": 6,
   "id": "2e6d29c5-7bfb-47dc-b484-ad6e43e1b54f",
   "metadata": {
    "tags": []
   },
   "outputs": [],
   "source": [
    "def update_node(nodes: dict, key: str, value: dict):\n",
    "    if not key in nodes:\n",
    "        nodes[key] = {}\n",
    "    for k, v in value.items():\n",
    "        if not isinstance(v, list):\n",
    "            nodes[key][k] = v\n",
    "\n",
    "def extract_dict(nodes: dict, edges: list, data: dict, parent: dict = None, name: str = None):\n",
    "    \"\"\"Recursively extract nodes and edges from a dict created from the result of a Dgraph query.\n",
    "\n",
    "    Nodes (vertices) from the query must have an ``id`` field in order to be recognized\n",
    "    as a node. Optionally, if a ``type`` field is present (either as a list or a string),\n",
    "    the type will be applied to the node. Nodes encountered in more than one place in the\n",
    "    query result will be merged.\n",
    "\n",
    "    Edges are automatically extracted from the query result. If a node has an an id and a parent,\n",
    "    a relationship is made. The relationship predicate name is assigned as the edge type.\n",
    "    \"\"\"\n",
    "    if isinstance(data, dict):\n",
    "        # ignore the Dgraph 'extensions' field\n",
    "        if name == \"extensions\":\n",
    "            return\n",
    "        # id is a special field, we use it to identify nodes\n",
    "        if \"id\" in data:\n",
    "            update_node(nodes, data['id'], data)\n",
    "            # if we have a parent, add an edge\n",
    "            if parent and \"id\" in parent:\n",
    "                edges.append(\n",
    "                    {\"src\": parent[\"id\"], \"dst\": data[\"id\"], \"type\": name})\n",
    "        # recurse into the dict\n",
    "        for key, value in data.items():\n",
    "            if isinstance(value, dict):\n",
    "                extract_dict(nodes, edges, value, data, key)\n",
    "            elif isinstance(value, list) and len(value) > 0:\n",
    "                # if the list is named 'type', assign it to the node\n",
    "                if key == \"type\":\n",
    "                    update_node(nodes, data[\"id\"], {\"type\": value[0]})\n",
    "                    continue\n",
    "                # else, recurse into the list if it contains dicts\n",
    "                if isinstance(value[0], dict):\n",
    "                    for v in value:\n",
    "                        extract_dict(nodes, edges, v, data, key)\n",
    "                # if the list is of scalars, assign it to the node\n",
    "                else:\n",
    "                    nodes[data['id']][key] = value\n",
    "\n"
   ]
  },
  {
   "cell_type": "markdown",
   "id": "2851a301-766a-4667-967e-5be06efcc77b",
   "metadata": {},
   "source": [
    "## Load all nodes and edges from the graph"
   ]
  },
  {
   "cell_type": "code",
   "execution_count": 142,
   "id": "d95c0606-6ac4-4500-a040-1899fc32d92d",
   "metadata": {
    "tags": []
   },
   "outputs": [],
   "source": [
    "# Query to extract all records and  edges from the graph\n",
    "recordQuery = \"\"\"\n",
    "query ($queryRecordOffset: Int, $queryRecordFirst: Int) {\n",
    "  queryRecord(offset: $queryRecordOffset, first: $queryRecordFirst) {\n",
    "    id: nodeID\n",
    "    type: __typename\n",
    "    name\n",
    "    sourceID\n",
    "    hasAddress {\n",
    "      id: nodeID\n",
    "    }\n",
    "    hasOfficer {\n",
    "      id: nodeID\n",
    "    }\n",
    "    hasIntermediary {\n",
    "      id: nodeID\n",
    "    }\n",
    "    connectedTo {\n",
    "      id: nodeID\n",
    "    }\n",
    "  }\n",
    "}\n",
    "\"\"\"\n"
   ]
  },
  {
   "cell_type": "code",
   "execution_count": 8,
   "id": "4af762c2-5d87-42ea-bfdf-ad26098630ad",
   "metadata": {
    "tags": []
   },
   "outputs": [],
   "source": [
    "import threading\n",
    "import concurrent.futures\n",
    "import time\n",
    "\n",
    "def query(offset, first):\n",
    "    variables = {\n",
    "        \"queryRecordOffset\": offset,\n",
    "        \"queryRecordFirst\": first\n",
    "    }\n",
    "    data = gql_client.execute(query=recordQuery, variables=variables)\n",
    "    return data, offset\n",
    "\n",
    "def load_all_nodes_and_edges(nodes: dict, edges: list):\n",
    "    count_query = \"\"\"\n",
    "    query {\n",
    "      total: aggregateRecord {\n",
    "        count\n",
    "      }\n",
    "    }\n",
    "    \"\"\"\n",
    "    data = gql_client.execute(query=count_query)\n",
    "    totalRecords = data['data']['total']['count']\n",
    "    start = time.time()\n",
    "\n",
    "    print(\"Loading nodes and edges using\", int(multiprocessing.cpu_count()/2), \"cores...\")\n",
    "    executor = concurrent.futures.ThreadPoolExecutor(max_workers=int(multiprocessing.cpu_count()/2))\n",
    "    f = []\n",
    "    step = 25000\n",
    "    lock = threading.Lock()\n",
    "    for i in range(0, totalRecords-1, step):\n",
    "        f.append(executor.submit(query, i, step))\n",
    "    for r in concurrent.futures.as_completed(f):\n",
    "        data = r.result()\n",
    "        with lock:\n",
    "            print(\"retrieved\", data[1]+1, \"thru\", data[1]+step, \"record count:\", len((data[0]['data']['queryRecord'])))\n",
    "            extract_dict(nodes, edges, data[0])\n",
    "        \n",
    "    end = time.time()\n",
    "    print('frames and edges loaded in', end - start, 'seconds')\n",
    "    print('node count', len(nodes))\n",
    "    print('edges count', len(edges))"
   ]
  },
  {
   "cell_type": "code",
   "execution_count": 9,
   "id": "445733b0-3aee-46ab-ba92-0fd3c2d121b4",
   "metadata": {
    "tags": []
   },
   "outputs": [
    {
     "name": "stdout",
     "output_type": "stream",
     "text": [
      "Loading nodes and edges using 4 cores...\n",
      "retrieved 1 thru 25000 record count: 25000\n",
      "retrieved 75001 thru 100000 record count: 25000\n",
      "retrieved 50001 thru 75000 record count: 25000\n",
      "retrieved 25001 thru 50000 record count: 25000\n",
      "retrieved 150001 thru 175000 record count: 6994\n",
      "retrieved 100001 thru 125000 record count: 25000\n",
      "retrieved 125001 thru 150000 record count: 25000\n",
      "frames and edges loaded in 9.211529970169067 seconds\n",
      "node count 156994\n",
      "edges count 94436\n",
      "CPU times: user 1.44 s, sys: 225 ms, total: 1.66 s\n",
      "Wall time: 9.49 s\n"
     ]
    }
   ],
   "source": [
    "%%time\n",
    "\n",
    "nodes = {}\n",
    "edges = []\n",
    "load_all_nodes_and_edges(nodes, edges)"
   ]
  },
  {
   "cell_type": "markdown",
   "id": "e7f42db0-8ea7-409d-bec0-da796425d887",
   "metadata": {},
   "source": [
    "## Visualize the Graph"
   ]
  },
  {
   "cell_type": "code",
   "execution_count": 145,
   "id": "440c42ee-06c8-405d-a089-4163e26fbc3d",
   "metadata": {
    "tags": []
   },
   "outputs": [
    {
     "data": {
      "text/html": [
       "<div>\n",
       "<style scoped>\n",
       "    .dataframe tbody tr th:only-of-type {\n",
       "        vertical-align: middle;\n",
       "    }\n",
       "\n",
       "    .dataframe tbody tr th {\n",
       "        vertical-align: top;\n",
       "    }\n",
       "\n",
       "    .dataframe thead th {\n",
       "        text-align: right;\n",
       "    }\n",
       "</style>\n",
       "<table border=\"1\" class=\"dataframe\">\n",
       "  <thead>\n",
       "    <tr style=\"text-align: right;\">\n",
       "      <th></th>\n",
       "      <th>id</th>\n",
       "      <th>type</th>\n",
       "      <th>name</th>\n",
       "      <th>sourceID</th>\n",
       "    </tr>\n",
       "  </thead>\n",
       "  <tbody>\n",
       "    <tr>\n",
       "      <th>55033615</th>\n",
       "      <td>55033615</td>\n",
       "      <td>Entity</td>\n",
       "      <td>CHART HOLDING COMPANY LIMITED</td>\n",
       "      <td>ParadisePapers</td>\n",
       "    </tr>\n",
       "    <tr>\n",
       "      <th>58055885</th>\n",
       "      <td>58055885</td>\n",
       "      <td>Address</td>\n",
       "      <td>C/O MIZZI, SCERRI, SAID &amp; CO AIRWAYS HOUSE 5TH...</td>\n",
       "      <td>ParadisePapers</td>\n",
       "    </tr>\n",
       "    <tr>\n",
       "      <th>10203543</th>\n",
       "      <td>10203543</td>\n",
       "      <td>Entity</td>\n",
       "      <td>SALTY WATER LTD.</td>\n",
       "      <td>PanamaPapers</td>\n",
       "    </tr>\n",
       "    <tr>\n",
       "      <th>12104410</th>\n",
       "      <td>12104410</td>\n",
       "      <td>Officer</td>\n",
       "      <td>LIANG HAIYAN</td>\n",
       "      <td>PanamaPapers</td>\n",
       "    </tr>\n",
       "    <tr>\n",
       "      <th>20097459</th>\n",
       "      <td>20097459</td>\n",
       "      <td>Entity</td>\n",
       "      <td>HAVEN CONSULTING CORP.</td>\n",
       "      <td>BahamasLeaks</td>\n",
       "    </tr>\n",
       "  </tbody>\n",
       "</table>\n",
       "</div>"
      ],
      "text/plain": [
       "                id     type   \n",
       "55033615  55033615   Entity  \\\n",
       "58055885  58055885  Address   \n",
       "10203543  10203543   Entity   \n",
       "12104410  12104410  Officer   \n",
       "20097459  20097459   Entity   \n",
       "\n",
       "                                                       name        sourceID  \n",
       "55033615                      CHART HOLDING COMPANY LIMITED  ParadisePapers  \n",
       "58055885  C/O MIZZI, SCERRI, SAID & CO AIRWAYS HOUSE 5TH...  ParadisePapers  \n",
       "10203543                                   SALTY WATER LTD.    PanamaPapers  \n",
       "12104410                                       LIANG HAIYAN    PanamaPapers  \n",
       "20097459                             HAVEN CONSULTING CORP.    BahamasLeaks  "
      ]
     },
     "execution_count": 145,
     "metadata": {},
     "output_type": "execute_result"
    }
   ],
   "source": [
    "nodes_df = pd.DataFrame.from_dict(nodes, orient = 'index')\n",
    "nodes_df.sample(5)"
   ]
  },
  {
   "cell_type": "code",
   "execution_count": 146,
   "id": "5ead87c2-c354-4fb2-aed0-e3d235812646",
   "metadata": {
    "tags": []
   },
   "outputs": [
    {
     "data": {
      "text/html": [
       "<div>\n",
       "<style scoped>\n",
       "    .dataframe tbody tr th:only-of-type {\n",
       "        vertical-align: middle;\n",
       "    }\n",
       "\n",
       "    .dataframe tbody tr th {\n",
       "        vertical-align: top;\n",
       "    }\n",
       "\n",
       "    .dataframe thead th {\n",
       "        text-align: right;\n",
       "    }\n",
       "</style>\n",
       "<table border=\"1\" class=\"dataframe\">\n",
       "  <thead>\n",
       "    <tr style=\"text-align: right;\">\n",
       "      <th></th>\n",
       "      <th>src</th>\n",
       "      <th>dst</th>\n",
       "      <th>type</th>\n",
       "    </tr>\n",
       "  </thead>\n",
       "  <tbody>\n",
       "    <tr>\n",
       "      <th>6646</th>\n",
       "      <td>23000156</td>\n",
       "      <td>20031316</td>\n",
       "      <td>intermediaryFor</td>\n",
       "    </tr>\n",
       "    <tr>\n",
       "      <th>5031</th>\n",
       "      <td>10185897</td>\n",
       "      <td>11009351</td>\n",
       "      <td>hasIntermediary</td>\n",
       "    </tr>\n",
       "    <tr>\n",
       "      <th>24561</th>\n",
       "      <td>51648</td>\n",
       "      <td>168203</td>\n",
       "      <td>officerFor</td>\n",
       "    </tr>\n",
       "    <tr>\n",
       "      <th>17691</th>\n",
       "      <td>82006101</td>\n",
       "      <td>80136800</td>\n",
       "      <td>hasOfficer</td>\n",
       "    </tr>\n",
       "    <tr>\n",
       "      <th>7903</th>\n",
       "      <td>20146866</td>\n",
       "      <td>23000365</td>\n",
       "      <td>hasIntermediary</td>\n",
       "    </tr>\n",
       "  </tbody>\n",
       "</table>\n",
       "</div>"
      ],
      "text/plain": [
       "            src       dst             type\n",
       "6646   23000156  20031316  intermediaryFor\n",
       "5031   10185897  11009351  hasIntermediary\n",
       "24561     51648    168203       officerFor\n",
       "17691  82006101  80136800       hasOfficer\n",
       "7903   20146866  23000365  hasIntermediary"
      ]
     },
     "execution_count": 146,
     "metadata": {},
     "output_type": "execute_result"
    }
   ],
   "source": [
    "edges_df = pd.DataFrame(new_edges)\n",
    "edges_df.sample(5)\n"
   ]
  },
  {
   "cell_type": "code",
   "execution_count": null,
   "id": "266425ac-ddd9-40be-be74-a3ba32de19f3",
   "metadata": {
    "tags": []
   },
   "outputs": [],
   "source": [
    "import graphistry\n",
    "\n",
    "PASSWORD = os.getenv(\"GRAPHISTRY_PASSWORD\")\n",
    "USERNAME = os.getenv(\"GRAPHISTRY_USERNAME\")\n",
    "\n",
    "graphistry.register(api=3, username=USERNAME, password=PASSWORD)\n",
    "\n",
    "g3 = graphistry.nodes(nodes_df, 'id').edges(edges_df, 'src', 'dst').bind(point_title='name')\n",
    "g4 = g3.encode_point_color('type', categorical_mapping={'Entity': '#DB3B3B', 'Intermediary': '#E99233', 'Officer': '#6DB364', 'Address': '#F7D82F'}, default_mapping='gray')\n",
    "g4.plot()"
   ]
  },
  {
   "cell_type": "markdown",
   "id": "23efe514-4542-4ce0-b1ce-e17093be392e",
   "metadata": {
    "tags": []
   },
   "source": [
    "### Perform Graph Analysis"
   ]
  },
  {
   "cell_type": "code",
   "execution_count": 10,
   "id": "fed13f84-284b-4a75-b26c-0f5410f8c91a",
   "metadata": {
    "tags": []
   },
   "outputs": [
    {
     "name": "stdout",
     "output_type": "stream",
     "text": [
      "            src       dst        type\n",
      "3646   55051467  56093376  hasOfficer\n",
      "29129     82336    236724  hasAddress\n",
      "41863  80069257  81016916  hasAddress\n",
      "DiGraph with 147338 nodes and 94425 edges\n",
      "Network density: 0.00000435\n",
      "Error gettting diameter Found infinite path length because the digraph is not strongly connected\n"
     ]
    }
   ],
   "source": [
    "import networkx as nx\n",
    "\n",
    "edges_df = pd.DataFrame(edges)\n",
    "print(edges_df.sample(3))\n",
    "G = nx.from_pandas_edgelist(\n",
    "    edges_df,\n",
    "    source=\"src\",\n",
    "    target=\"dst\",\n",
    "    edge_key=\"type\",\n",
    "    create_using=nx.DiGraph()\n",
    ")\n",
    "print(G)\n",
    "print(\"Network density:\", \"%.8f\" % nx.density(G))\n",
    "try:\n",
    "    print(\"Diameter:\", nx.diameter(G))\n",
    "except nx.NetworkXError as e:\n",
    "    print(\"Error gettting diameter\", e)"
   ]
  },
  {
   "cell_type": "code",
   "execution_count": 11,
   "id": "e808a37d-fe63-4a67-ab1e-1340440d49e6",
   "metadata": {
    "tags": []
   },
   "outputs": [
    {
     "data": {
      "text/html": [
       "<div>\n",
       "<style scoped>\n",
       "    .dataframe tbody tr th:only-of-type {\n",
       "        vertical-align: middle;\n",
       "    }\n",
       "\n",
       "    .dataframe tbody tr th {\n",
       "        vertical-align: top;\n",
       "    }\n",
       "\n",
       "    .dataframe thead th {\n",
       "        text-align: right;\n",
       "    }\n",
       "</style>\n",
       "<table border=\"1\" class=\"dataframe\">\n",
       "  <thead>\n",
       "    <tr style=\"text-align: right;\">\n",
       "      <th></th>\n",
       "      <th>id</th>\n",
       "      <th>type</th>\n",
       "      <th>name</th>\n",
       "      <th>sourceID</th>\n",
       "    </tr>\n",
       "  </thead>\n",
       "  <tbody>\n",
       "    <tr>\n",
       "      <th>21328</th>\n",
       "      <td>21328</td>\n",
       "      <td>Officer</td>\n",
       "      <td>Hophil Services (BVI) Limited</td>\n",
       "      <td>OffshoreLeaks</td>\n",
       "    </tr>\n",
       "    <tr>\n",
       "      <th>81033064</th>\n",
       "      <td>81033064</td>\n",
       "      <td>Address</td>\n",
       "      <td>Atrium on Bay; 595 Bay Street, Suite 402; Toro...</td>\n",
       "      <td>ParadisePapers</td>\n",
       "    </tr>\n",
       "    <tr>\n",
       "      <th>10125218</th>\n",
       "      <td>10125218</td>\n",
       "      <td>Entity</td>\n",
       "      <td>CHARMATIC LIMITED</td>\n",
       "      <td>PanamaPapers</td>\n",
       "    </tr>\n",
       "  </tbody>\n",
       "</table>\n",
       "</div>"
      ],
      "text/plain": [
       "                id     type   \n",
       "21328        21328  Officer  \\\n",
       "81033064  81033064  Address   \n",
       "10125218  10125218   Entity   \n",
       "\n",
       "                                                       name        sourceID  \n",
       "21328                         Hophil Services (BVI) Limited   OffshoreLeaks  \n",
       "81033064  Atrium on Bay; 595 Bay Street, Suite 402; Toro...  ParadisePapers  \n",
       "10125218                                  CHARMATIC LIMITED    PanamaPapers  "
      ]
     },
     "execution_count": 11,
     "metadata": {},
     "output_type": "execute_result"
    }
   ],
   "source": [
    "nodes_df = pd.DataFrame.from_dict(nodes, orient = 'index')\n",
    "nodes_df.sample(3)"
   ]
  },
  {
   "cell_type": "code",
   "execution_count": 22,
   "id": "55d141a2-019d-4e59-89c3-09fca13a0b1e",
   "metadata": {
    "tags": []
   },
   "outputs": [
    {
     "name": "stdout",
     "output_type": "stream",
     "text": [
      "1 236724 Portcullis TrustNet Chambers P.O. Box 3444 Road Town, Tortola British Virgin Islands (w.e.f 9 December 2005) , type: Address , degrees: 1314\n",
      "2 230000018 Morning Star Holdings Limited , type: Intermediary , degrees: 1259\n",
      "3 54662 Portcullis TrustNet (BVI) Limited , type: Intermediary , degrees: 1169\n",
      "4 23000136 MOSSACK FONSECA & CO. (BAHAMAS) LIMITED , type: Intermediary , degrees: 500\n",
      "5 240000001 3rd Floor, Yamraj Building, Market Square, P.O. Box 3175 Road Town, Tortola British Virgin Islands , type: Address , degrees: 437\n",
      "6 23000147 UBS TRUSTEES (BAHAMAS) LTD. , type: Intermediary , degrees: 375\n",
      "7 81027146 Clifton House; 75 Fort Street; Grand Cayman KY1-1108; Cayman Islands , type: Address , degrees: 338\n",
      "8 23000330 CREDIT SUISSE TRUST LIMITED , type: Intermediary , degrees: 302\n",
      "9 81027090 Canon's Court; 22 Victoria Street; Hamilton; HM 12; Bermuda , type: Address , degrees: 301\n",
      "10 23000156 TRIDENT CORPORATE SERVICES (BAH) LTD , type: Intermediary , degrees: 300\n"
     ]
    }
   ],
   "source": [
    "#find top 10 nodes by degree\n",
    "sorted_deg = sorted(G.degree, key=lambda x: x[1], reverse=True)\n",
    "for n in range(10):\n",
    "    nodeID = sorted_deg[n][0]\n",
    "    print(n+1, nodeID, nodes[nodeID]['name'], ', type:', nodes[nodeID]['type'], \", degrees:\", sorted_deg[n][1])"
   ]
  },
  {
   "cell_type": "code",
   "execution_count": null,
   "id": "d49f00f7-8b0c-472e-9235-2b2d89a4b788",
   "metadata": {
    "tags": []
   },
   "outputs": [],
   "source": [
    "#find top 10 nodes by centrality\n",
    "central = nx.degree_centrality(G)\n",
    "sorted_central = sorted(central.items(), key=lambda x: x[1], reverse=True)\n",
    "for n in range(10):\n",
    "    nodeID = sorted_central[n][0]\n",
    "    print(n+1, nodeID, nodes[nodeID]['name'], ', type:', nodes[nodeID]['type'], \", centrality:\", '{:.8f}'.format(central[nodeID]))"
   ]
  },
  {
   "cell_type": "code",
   "execution_count": 39,
   "id": "0ee9601a-e505-45e9-bd64-31e22bc0a482",
   "metadata": {
    "tags": []
   },
   "outputs": [
    {
     "name": "stdout",
     "output_type": "stream",
     "text": [
      "1 236724 Portcullis TrustNet Chambers P.O. Box 3444 Road Town, Tortola British Virgin Islands (w.e.f 9 December 2005) , type: Address , pagerank: 0.00462813\n",
      "2 230000018 Morning Star Holdings Limited , type: Intermediary , pagerank: 0.00448438\n",
      "3 54662 Portcullis TrustNet (BVI) Limited , type: Intermediary , pagerank: 0.00389371\n",
      "4 23000136 MOSSACK FONSECA & CO. (BAHAMAS) LIMITED , type: Intermediary , pagerank: 0.00178191\n",
      "5 240000001 3rd Floor, Yamraj Building, Market Square, P.O. Box 3175 Road Town, Tortola British Virgin Islands , type: Address , pagerank: 0.00151504\n",
      "6 23000147 UBS TRUSTEES (BAHAMAS) LTD. , type: Intermediary , pagerank: 0.00133891\n",
      "7 81027146 Clifton House; 75 Fort Street; Grand Cayman KY1-1108; Cayman Islands , type: Address , pagerank: 0.00117278\n",
      "8 23000156 TRIDENT CORPORATE SERVICES (BAH) LTD , type: Intermediary , pagerank: 0.00105781\n",
      "9 23000330 CREDIT SUISSE TRUST LIMITED , type: Intermediary , pagerank: 0.00105603\n",
      "10 81027090 Canon's Court; 22 Victoria Street; Hamilton; HM 12; Bermuda , type: Address , pagerank: 0.00101257\n",
      "CPU times: user 213 ms, sys: 62.2 ms, total: 275 ms\n",
      "Wall time: 374 ms\n"
     ]
    }
   ],
   "source": [
    "%%time\n",
    "\n",
    "# find top 10 entities by pagerank\n",
    "pageranks = nx.pagerank(G)\n",
    "sorted_pr = sorted(pageranks.items(), key=lambda x: x[1], reverse=True)\n",
    "for n in range(10):\n",
    "    nodeID = sorted_pr[n][0]\n",
    "    print(n+1, nodeID, nodes[nodeID]['name'], ', type:', nodes[nodeID]['type'], \", pagerank:\", '{:.8f}'.format(pageranks[nodeID]))"
   ]
  },
  {
   "cell_type": "code",
   "execution_count": 106,
   "id": "ece16b31-5cf7-4ee7-b8f9-3d835bfd334c",
   "metadata": {
    "tags": []
   },
   "outputs": [
    {
     "data": {
      "text/plain": [
       "Text(0.5, 1.0, 'Distribution of Node Page Rank')"
      ]
     },
     "execution_count": 106,
     "metadata": {},
     "output_type": "execute_result"
    },
    {
     "data": {
      "image/png": "[encoded data removed]",
      "text/plain": [
       "<Figure size 640x480 with 1 Axes>"
      ]
     },
     "metadata": {},
     "output_type": "display_data"
    }
   ],
   "source": [
    "# let's look at the distribution of record pagerank scores\n",
    "sorted_pr_df = pd.DataFrame(sorted_pr)\n",
    "plt = sorted_pr_df[1].hist(bins=20, range=[0.0,0.8])\n",
    "plt.set_ylabel(\"Records\")\n",
    "plt.set_xlabel(\"Page Rank\")\n",
    "plt.set_title(\"Distribution of Node Page Rank\")"
   ]
  },
  {
   "cell_type": "code",
   "execution_count": 111,
   "id": "0790f04a-62eb-451d-9a27-91df1895bde4",
   "metadata": {
    "tags": []
   },
   "outputs": [],
   "source": [
    "# extract to top 100 pageranked record ids from the sorted pagerank list\n",
    "top_30_nodes_by_pagerank = list(list(zip(*sorted_pr[0:100]))[0])\n",
    "\n",
    "recurse_query_for_pr = \"\"\"\n",
    "{\n",
    "    q(func: eq(Record.nodeID, {LIST})) @recurse(depth: 5) {\n",
    "        # predicates to return for each recurse\n",
    "        id: Record.nodeID\n",
    "        name: Record.name\n",
    "        type: <dgraph.type>\n",
    "        # predicates to loop through\n",
    "        hasaddress: Record.hasAddress\n",
    "        addressFor: RecordRecord.addressFor\n",
    "        hasOfficer: Record.hasOfficer\n",
    "        officerFor: Record.officerFor\n",
    "        hasIntermediary: Record.hasIntermediary\n",
    "        intermediaryFor: Record.intermediaryFor\n",
    "        connectedTo: RecordRecord.connectedTo  \n",
    "  }\n",
    "}\n",
    "\"\"\"\n",
    "recurse_query_for_pr = recurse_query_for_pr.replace(\"{LIST}\", json.dumps(top_30_nodes_by_pagerank))\n",
    "res = client.txn(read_only=True).query(recurse_query_for_pr)\n",
    "data = json.loads(res.json)\n"
   ]
  },
  {
   "cell_type": "code",
   "execution_count": 112,
   "id": "cde1410b-f425-41d2-86c5-c66758a658cf",
   "metadata": {
    "tags": []
   },
   "outputs": [
    {
     "data": {
      "text/html": [
       "<div>\n",
       "<style scoped>\n",
       "    .dataframe tbody tr th:only-of-type {\n",
       "        vertical-align: middle;\n",
       "    }\n",
       "\n",
       "    .dataframe tbody tr th {\n",
       "        vertical-align: top;\n",
       "    }\n",
       "\n",
       "    .dataframe thead th {\n",
       "        text-align: right;\n",
       "    }\n",
       "</style>\n",
       "<table border=\"1\" class=\"dataframe\">\n",
       "  <thead>\n",
       "    <tr style=\"text-align: right;\">\n",
       "      <th></th>\n",
       "      <th>id</th>\n",
       "      <th>name</th>\n",
       "      <th>type</th>\n",
       "    </tr>\n",
       "  </thead>\n",
       "  <tbody>\n",
       "    <tr>\n",
       "      <th>14048783</th>\n",
       "      <td>14048783</td>\n",
       "      <td>LLISTER HOUSE; 35 THE PARADE; ST HELIER; JERSE...</td>\n",
       "      <td>Address</td>\n",
       "    </tr>\n",
       "    <tr>\n",
       "      <th>10097366</th>\n",
       "      <td>10097366</td>\n",
       "      <td>HORIZON SOFTWARE LTD.</td>\n",
       "      <td>Entity</td>\n",
       "    </tr>\n",
       "    <tr>\n",
       "      <th>144822</th>\n",
       "      <td>144822</td>\n",
       "      <td>Comark Investments Ltd</td>\n",
       "      <td>Entity</td>\n",
       "    </tr>\n",
       "  </tbody>\n",
       "</table>\n",
       "</div>"
      ],
      "text/plain": [
       "                id                                               name     type\n",
       "14048783  14048783  LLISTER HOUSE; 35 THE PARADE; ST HELIER; JERSE...  Address\n",
       "10097366  10097366                              HORIZON SOFTWARE LTD.   Entity\n",
       "144822      144822                             Comark Investments Ltd   Entity"
      ]
     },
     "execution_count": 112,
     "metadata": {},
     "output_type": "execute_result"
    }
   ],
   "source": [
    "new_nodes = {}\n",
    "new_edges = []\n",
    "extract_dict(new_nodes, new_edges, data)\n",
    "\n",
    "new_edges_df = pd.DataFrame(new_edges)\n",
    "new_nodes_df = pd.DataFrame.from_dict(new_nodes, orient = 'index')\n",
    "new_nodes_df.sample(3)\n"
   ]
  },
  {
   "cell_type": "code",
   "execution_count": 113,
   "id": "0632328e-bbb0-42de-9673-0859eb306a90",
   "metadata": {
    "tags": []
   },
   "outputs": [
    {
     "data": {
      "text/html": [
       "\n",
       "            <iframe id=\"dccf3e92-4434-4a10-9b6c-08a57ccc20d2\" src=\"https://hub.graphistry.com/graph/graph.html?dataset=80b73457987046c48175008740ff0432&type=arrow&viztoken=8f814ed1-1d67-4e75-99d5-da11a39649dc&usertag=dadf868a-pygraphistry-0.28.7&splashAfter=1682634422&info=true\"\n",
       "                    allowfullscreen=\"true\" webkitallowfullscreen=\"true\" mozallowfullscreen=\"true\"\n",
       "                    oallowfullscreen=\"true\" msallowfullscreen=\"true\"\n",
       "                    style=\"width:100%; height:500px; border: 1px solid #DDD; overflow: hidden\"\n",
       "                    \n",
       "            >\n",
       "            </iframe>\n",
       "        \n",
       "            <script>\n",
       "                try {\n",
       "                  $(\"#dccf3e92-4434-4a10-9b6c-08a57ccc20d2\").bind('mousewheel', function(e) { e.preventDefault(); });\n",
       "                } catch (e) { console.error('exn catching scroll', e); }\n",
       "            </script>\n",
       "        "
      ],
      "text/plain": [
       "<IPython.core.display.HTML object>"
      ]
     },
     "execution_count": 113,
     "metadata": {},
     "output_type": "execute_result"
    }
   ],
   "source": [
    "import graphistry\n",
    "\n",
    "PASSWORD = os.getenv(\"GRAPHISTRY_PASSWORD\")\n",
    "USERNAME = os.getenv(\"GRAPHISTRY_USERNAME\")\n",
    "\n",
    "graphistry.register(api=3, username=USERNAME, password=PASSWORD)\n",
    "\n",
    "g3 = graphistry.nodes(new_nodes_df, 'id').edges(new_edges_df, 'src', 'dst').bind(point_title='name')\n",
    "g4 = g3.encode_point_color('type', categorical_mapping={'Entity': '#DB3B3B', 'Intermediary': '#E99233', 'Officer': '#6DB364', 'Address': '#F7D82F'}, default_mapping='gray')\n",
    "g4.plot()"
   ]
  },
  {
   "cell_type": "code",
   "execution_count": 88,
   "id": "633f5bff-bead-4629-afbe-fd99a1a63cf2",
   "metadata": {
    "tags": []
   },
   "outputs": [
    {
     "name": "stdout",
     "output_type": "stream",
     "text": [
      "MultiDiGraph with 12052 nodes and 24609 edges\n",
      "Network density: 0.00016944\n",
      "Error gettting diameter Found infinite path length because the digraph is not strongly connected\n"
     ]
    }
   ],
   "source": [
    "import networkx as nx\n",
    "\n",
    "G2 = nx.from_pandas_edgelist(\n",
    "    new_edges_df,\n",
    "    source=\"src\",\n",
    "    target=\"dst\",\n",
    "    edge_key=\"type\",\n",
    "    create_using=nx.MultiDiGraph()\n",
    ")\n",
    "print(G2)\n",
    "print(\"Network density:\", \"%.8f\" % nx.density(G2))\n",
    "try:\n",
    "    print(\"Diameter:\", nx.diameter(G2))\n",
    "except nx.NetworkXError as e:\n",
    "    print(\"Error gettting diameter\", e)"
   ]
  },
  {
   "cell_type": "code",
   "execution_count": 95,
   "id": "301a8880-aade-4435-97e4-af30f0021535",
   "metadata": {
    "tags": []
   },
   "outputs": [
    {
     "data": {
      "text/plain": [
       "['101123',\n",
       " '142690',\n",
       " '54662',\n",
       " '124298',\n",
       " '113638',\n",
       " '138327',\n",
       " '290635',\n",
       " '170519',\n",
       " '58922',\n",
       " '173306',\n",
       " '292575',\n",
       " '168616',\n",
       " '96909',\n",
       " '157273',\n",
       " '297412',\n",
       " '148197']"
      ]
     },
     "execution_count": 95,
     "metadata": {},
     "output_type": "execute_result"
    }
   ],
   "source": [
    "# find all paths in graph G that have four or more edges\n",
    "lp_list = []\n",
    "sp = dict(nx.all_pairs_shortest_path(G2))\n",
    "for key, value in sp.items():\n",
    "    for v in value.items():\n",
    "        if len((v[1])) >= 16:\n",
    "               lp_list.append(v[1])\n",
    "\n",
    "lp_list = sorted(lp_list)\n",
    "lp_list[0]"
   ]
  },
  {
   "cell_type": "markdown",
   "id": "c1d17b98-a9b2-4b41-b273-e6c6be57bcfd",
   "metadata": {
    "tags": []
   },
   "source": [
    "### Graph Visualization"
   ]
  },
  {
   "cell_type": "code",
   "execution_count": null,
   "id": "4658bcad-5632-4a61-9a0a-a3cf7f4c6da9",
   "metadata": {},
   "outputs": [],
   "source": [
    "import graphistry\n",
    "\n",
    "PASSWORD = os.getenv(\"GRAPHISTRY_PASSWORD\")\n",
    "USERNAME = os.getenv(\"GRAPHISTRY_USERNAME\")\n",
    "\n",
    "graphistry.register(api=3, username=USERNAME, password=PASSWORD)\n",
    "\n",
    "g = graphistry.nodes(nodes_df, 'id').edges(edges_df, 'src', 'dst').bind(point_title='name')\n",
    "g2 = g.encode_point_color('type', categorical_mapping={'Entity': '#DB3B3B', 'Intermediary': '#E99233', 'Officer': '#6DB364', 'Address': '#F7D82F'}, default_mapping='gray')\n",
    "g2.plot()"
   ]
  },
  {
   "cell_type": "markdown",
   "id": "b913e1ca-54f5-44ae-b2ff-6f4db0e5e370",
   "metadata": {
    "tags": []
   },
   "source": [
    "### Closest Path Calculation"
   ]
  },
  {
   "cell_type": "code",
   "execution_count": 114,
   "id": "7c491651-ec9c-4481-8e5a-68448de8a701",
   "metadata": {
    "tags": []
   },
   "outputs": [
    {
     "name": "stdout",
     "output_type": "stream",
     "text": [
      "{\n",
      "  \"path\": [\n",
      "    {\n",
      "      \"uid\": \"0x1a0283\",\n",
      "      \"Record.nodeID\": \"101123\",\n",
      "      \"Record.name\": \"Cathay International Beverage Limited\",\n",
      "      \"dgraph.type\": [\n",
      "        \"Officer\",\n",
      "        \"Record\"\n",
      "      ]\n",
      "    },\n",
      "    {\n",
      "      \"uid\": \"0x16e68e\",\n",
      "      \"Record.nodeID\": \"142690\",\n",
      "      \"Record.name\": \"C & C BEVERAGES LIMITED\",\n",
      "      \"dgraph.type\": [\n",
      "        \"Entity\",\n",
      "        \"Record\"\n",
      "      ]\n",
      "    },\n",
      "    {\n",
      "      \"uid\": \"0x16e366\",\n",
      "      \"Record.nodeID\": \"54662\",\n",
      "      \"Record.name\": \"Portcullis TrustNet (BVI) Limited\",\n",
      "      \"dgraph.type\": [\n",
      "        \"Intermediary\",\n",
      "        \"Record\"\n",
      "      ]\n",
      "    },\n",
      "    {\n",
      "      \"uid\": \"0x49c4b\",\n",
      "      \"Record.nodeID\": \"160833\",\n",
      "      \"Record.name\": \"V-FLO GROUP OF COMPANIES LIMITED\",\n",
      "      \"dgraph.type\": [\n",
      "        \"Entity\",\n",
      "        \"Record\"\n",
      "      ]\n",
      "    },\n",
      "    {\n",
      "      \"uid\": \"0x2191d6\",\n",
      "      \"Record.nodeID\": \"236724\",\n",
      "      \"Record.name\": \"Portcullis TrustNet Chambers P.O. Box 3444 Road Town, Tortola British Virgin Islands (w.e.f 9 December 2005)\",\n",
      "      \"dgraph.type\": [\n",
      "        \"Address\",\n",
      "        \"Record\"\n",
      "      ]\n",
      "    },\n",
      "    {\n",
      "      \"uid\": \"0xf44a1\",\n",
      "      \"Record.nodeID\": \"134151\",\n",
      "      \"Record.name\": \"Aswibek Co., Ltd.\",\n",
      "      \"dgraph.type\": [\n",
      "        \"Entity\",\n",
      "        \"Record\"\n",
      "      ]\n",
      "    },\n",
      "    {\n",
      "      \"uid\": \"0x493f1\",\n",
      "      \"Record.nodeID\": \"237076\",\n",
      "      \"Record.name\": \"David Chong & Co. Office B1, 7/F. Loyong Court 212-220 Lockhart Road Wanchai Hong Kong CAYMAN ISLANDS\",\n",
      "      \"dgraph.type\": [\n",
      "        \"Address\",\n",
      "        \"Record\"\n",
      "      ]\n",
      "    },\n",
      "    {\n",
      "      \"uid\": \"0x31034\",\n",
      "      \"Record.nodeID\": \"173870\",\n",
      "      \"Record.name\": \"SHIN-TOW OVERSEAS HOLDING CO., LTD.\",\n",
      "      \"dgraph.type\": [\n",
      "        \"Entity\",\n",
      "        \"Record\"\n",
      "      ]\n",
      "    },\n",
      "    {\n",
      "      \"uid\": \"0x2dc6d1\",\n",
      "      \"Record.nodeID\": \"96909\",\n",
      "      \"Record.name\": \"Portcullis TrustNet (Samoa) Limited\",\n",
      "      \"dgraph.type\": [\n",
      "        \"Officer\",\n",
      "        \"Record\"\n",
      "      ]\n",
      "    },\n",
      "    {\n",
      "      \"uid\": \"0x2012ec\",\n",
      "      \"Record.nodeID\": \"157273\",\n",
      "      \"Record.name\": \"GLORY LOGISTICS INTERNATIONAL CO., LTD.\",\n",
      "      \"dgraph.type\": [\n",
      "        \"Entity\",\n",
      "        \"Record\"\n",
      "      ]\n",
      "    },\n",
      "    {\n",
      "      \"uid\": \"0xdc4c3\",\n",
      "      \"Record.nodeID\": \"297412\",\n",
      "      \"Record.name\": \"Y & C Management Consulting Limited  - ?????????????\",\n",
      "      \"dgraph.type\": [\n",
      "        \"Intermediary\",\n",
      "        \"Record\"\n",
      "      ]\n",
      "    },\n",
      "    {\n",
      "      \"uid\": \"0xc3e62\",\n",
      "      \"Record.nodeID\": \"148197\",\n",
      "      \"Record.name\": \"ASIA HEALTH TECHNOLOGY LTD.\",\n",
      "      \"dgraph.type\": [\n",
      "        \"Entity\",\n",
      "        \"Record\"\n",
      "      ]\n",
      "    }\n",
      "  ],\n",
      "  \"_path_\": [\n",
      "    {\n",
      "      \"Record.officerFor\": {\n",
      "        \"Record.hasOfficer\": {\n",
      "          \"Record.officerFor\": {\n",
      "            \"Record.hasAddress\": {\n",
      "              \"Record.addressFor\": {\n",
      "                \"Record.hasAddress\": {\n",
      "                  \"Record.addressFor\": {\n",
      "                    \"Record.hasOfficer\": {\n",
      "                      \"Record.officerFor\": {\n",
      "                        \"Record.hasIntermediary\": {\n",
      "                          \"Record.intermediaryFor\": {\n",
      "                            \"uid\": \"0xc3e62\"\n",
      "                          },\n",
      "                          \"uid\": \"0xdc4c3\"\n",
      "                        },\n",
      "                        \"uid\": \"0x2012ec\"\n",
      "                      },\n",
      "                      \"uid\": \"0x2dc6d1\"\n",
      "                    },\n",
      "                    \"uid\": \"0x31034\"\n",
      "                  },\n",
      "                  \"uid\": \"0x493f1\"\n",
      "                },\n",
      "                \"uid\": \"0xf44a1\"\n",
      "              },\n",
      "              \"uid\": \"0x2191d6\"\n",
      "            },\n",
      "            \"uid\": \"0x49c4b\"\n",
      "          },\n",
      "          \"uid\": \"0x16e366\"\n",
      "        },\n",
      "        \"uid\": \"0x16e68e\"\n",
      "      },\n",
      "      \"uid\": \"0x1a0283\",\n",
      "      \"_weight_\": 11.0\n",
      "    }\n",
      "  ]\n",
      "}\n",
      "{'uid': '0x1a0283', 'Record.nodeID': '101123', 'Record.name': 'Cathay International Beverage Limited', 'dgraph.type': ['Officer', 'Record']}\n",
      "{'uid': '0x16e68e', 'Record.nodeID': '142690', 'Record.name': 'C & C BEVERAGES LIMITED', 'dgraph.type': ['Entity', 'Record']}\n",
      "{'uid': '0x16e366', 'Record.nodeID': '54662', 'Record.name': 'Portcullis TrustNet (BVI) Limited', 'dgraph.type': ['Intermediary', 'Record']}\n",
      "{'uid': '0x49c4b', 'Record.nodeID': '160833', 'Record.name': 'V-FLO GROUP OF COMPANIES LIMITED', 'dgraph.type': ['Entity', 'Record']}\n",
      "{'uid': '0x2191d6', 'Record.nodeID': '236724', 'Record.name': 'Portcullis TrustNet Chambers P.O. Box 3444 Road Town, Tortola British Virgin Islands (w.e.f 9 December 2005)', 'dgraph.type': ['Address', 'Record']}\n",
      "{'uid': '0xf44a1', 'Record.nodeID': '134151', 'Record.name': 'Aswibek Co., Ltd.', 'dgraph.type': ['Entity', 'Record']}\n",
      "{'uid': '0x493f1', 'Record.nodeID': '237076', 'Record.name': 'David Chong & Co. Office B1, 7/F. Loyong Court 212-220 Lockhart Road Wanchai Hong Kong CAYMAN ISLANDS', 'dgraph.type': ['Address', 'Record']}\n",
      "{'uid': '0x31034', 'Record.nodeID': '173870', 'Record.name': 'SHIN-TOW OVERSEAS HOLDING CO., LTD.', 'dgraph.type': ['Entity', 'Record']}\n",
      "{'uid': '0x2dc6d1', 'Record.nodeID': '96909', 'Record.name': 'Portcullis TrustNet (Samoa) Limited', 'dgraph.type': ['Officer', 'Record']}\n",
      "{'uid': '0x2012ec', 'Record.nodeID': '157273', 'Record.name': 'GLORY LOGISTICS INTERNATIONAL CO., LTD.', 'dgraph.type': ['Entity', 'Record']}\n",
      "{'uid': '0xdc4c3', 'Record.nodeID': '297412', 'Record.name': 'Y & C Management Consulting Limited  - ?????????????', 'dgraph.type': ['Intermediary', 'Record']}\n",
      "{'uid': '0xc3e62', 'Record.nodeID': '148197', 'Record.name': 'ASIA HEALTH TECHNOLOGY LTD.', 'dgraph.type': ['Entity', 'Record']}\n"
     ]
    }
   ],
   "source": [
    "closest_dql_query = \"\"\"\n",
    "query closest($from: string, $to: string) {\n",
    "  FROM as var(func: eq(Record.nodeID, $from))\n",
    "  TO as var(func: eq(Record.nodeID, $to))\n",
    "    \n",
    "  P as shortest(from: uid(FROM), to: uid(TO)) {\n",
    "    Record.hasAddress\n",
    "    Record.addressFor\n",
    "    Record.hasIntermediary\n",
    "    Record.intermediaryFor\n",
    "    Record.hasOfficer\n",
    "    Record.officerFor\n",
    "    Record.sameAs\n",
    "    Record.sameNameAs\n",
    "    Record.similarTo\n",
    "    Record.connectedTo\n",
    "  }\n",
    "    \n",
    "  path(func: uid(P)) {\n",
    "   uid\n",
    "   Record.nodeID\n",
    "   Record.name\n",
    "   <dgraph.type>\n",
    "  }\n",
    "}\n",
    "\"\"\"\n",
    "\n",
    "from_node = '101123'\n",
    "to_node = '148197'\n",
    "\n",
    "#variables = {'$from': sorted_pr[0][0], '$to': sorted_pr[2][0]}\n",
    "variables = {'$from': from_node, '$to': to_node}\n",
    "\n",
    "res = client.txn(read_only=True).query(query=closest_dql_query, variables=variables)\n",
    "paths = json.loads(res.json)\n",
    "print(json.dumps(paths, indent=2))\n",
    "    \n",
    "for path in paths['path']:\n",
    "    print(path)\n"
   ]
  },
  {
   "cell_type": "code",
   "execution_count": 115,
   "id": "3fb9175a-6659-4b9f-a7cc-c1b516856933",
   "metadata": {
    "tags": []
   },
   "outputs": [
    {
     "name": "stdout",
     "output_type": "stream",
     "text": [
      "{'nodes': [{'data': {'id': '101123', 'label': 'Cathay International Beverage Limited', 'type': 'Officer'}, 'classes': 'Officer'}, {'data': {'id': '142690', 'label': 'C & C BEVERAGES LIMITED', 'type': 'Entity'}, 'classes': 'Entity'}, {'data': {'id': '54662', 'label': 'Portcullis TrustNet (BVI) Limited', 'type': 'Intermediary'}, 'classes': 'Intermediary'}, {'data': {'id': '160833', 'label': 'V-FLO GROUP OF COMPANIES LIMITED', 'type': 'Entity'}, 'classes': 'Entity'}, {'data': {'id': '236724', 'label': 'Portcullis TrustNet Chambers P.O. Box 3444 Road Town, Tortola British Virgin Islands (w.e.f 9 December 2005)', 'type': 'Address'}, 'classes': 'Address'}, {'data': {'id': '134151', 'label': 'Aswibek Co., Ltd.', 'type': 'Entity'}, 'classes': 'Entity'}, {'data': {'id': '237076', 'label': 'David Chong & Co. Office B1, 7/F. Loyong Court 212-220 Lockhart Road Wanchai Hong Kong CAYMAN ISLANDS', 'type': 'Address'}, 'classes': 'Address'}, {'data': {'id': '173870', 'label': 'SHIN-TOW OVERSEAS HOLDING CO., LTD.', 'type': 'Entity'}, 'classes': 'Entity'}, {'data': {'id': '96909', 'label': 'Portcullis TrustNet (Samoa) Limited', 'type': 'Officer'}, 'classes': 'Officer'}, {'data': {'id': '157273', 'label': 'GLORY LOGISTICS INTERNATIONAL CO., LTD.', 'type': 'Entity'}, 'classes': 'Entity'}, {'data': {'id': '297412', 'label': 'Y & C Management Consulting Limited  - ?????????????', 'type': 'Intermediary'}, 'classes': 'Intermediary'}, {'data': {'id': '148197', 'label': 'ASIA HEALTH TECHNOLOGY LTD.', 'type': 'Entity'}, 'classes': 'Entity'}], 'edges': [{'data': {'uid': '0x1a0283', 'source': '101123', 'target': '142690', 'label': 'officerFor'}}, {'data': {'uid': '0x16e68e', 'source': '142690', 'target': '54662', 'label': 'hasOfficer'}}, {'data': {'uid': '0x16e366', 'source': '54662', 'target': '160833', 'label': 'officerFor'}}, {'data': {'uid': '0x49c4b', 'source': '160833', 'target': '236724', 'label': 'hasAddress'}}, {'data': {'uid': '0x2191d6', 'source': '236724', 'target': '134151', 'label': 'addressFor'}}, {'data': {'uid': '0xf44a1', 'source': '134151', 'target': '237076', 'label': 'hasAddress'}}, {'data': {'uid': '0x493f1', 'source': '237076', 'target': '173870', 'label': 'addressFor'}}, {'data': {'uid': '0x31034', 'source': '173870', 'target': '96909', 'label': 'hasOfficer'}}, {'data': {'uid': '0x2dc6d1', 'source': '96909', 'target': '157273', 'label': 'officerFor'}}, {'data': {'uid': '0x2012ec', 'source': '157273', 'target': '297412', 'label': 'hasIntermediary'}}, {'data': {'uid': '0xdc4c3', 'source': '297412', 'target': '148197', 'label': 'intermediaryFor'}}]}\n"
     ]
    }
   ],
   "source": [
    "import ipycytoscape\n",
    "\n",
    "graph_data = {\"nodes\": [], \"edges\": []}\n",
    "# find the nodes\n",
    "for idx, path in enumerate(paths['path']):\n",
    "    entity_type = path['dgraph.type'][0]\n",
    "    #graph_data['nodes'].append({\"data\": {\"id\": path['Record.nodeID'], \"label\": path['Record.name'], \"tooltip\": \"<div style='background-color:white'>foo</div>\"}, \"classes\": entity_type})\n",
    "    graph_data['nodes'].append({\"data\": {\"id\": path['Record.nodeID'], \"label\": path['Record.name'], \"type\": entity_type}, \"classes\": entity_type})\n",
    "    if idx < len(paths['path'])-1:\n",
    "        graph_data['edges'].append({\"data\": {\"uid\": path['uid'], \"source\": path['Record.nodeID'], \"target\": paths['path'][idx+1]['Record.nodeID']}})\n",
    "\n",
    "def find_edge_type(d: dict):\n",
    "    uid = d['uid']\n",
    "    for key, entry in d.items():\n",
    "        if isinstance(entry, dict):\n",
    "            for edge in graph_data['edges']:\n",
    "                if edge['data']['uid'] == uid:\n",
    "                    edge['data']['label'] = key[7:]\n",
    "            find_edge_type(entry)\n",
    " \n",
    "        \n",
    "# recursively find the edge types\n",
    "find_edge_type(paths['_path_'][0])\n",
    "                           \n",
    "print(graph_data)"
   ]
  },
  {
   "cell_type": "code",
   "execution_count": 127,
   "id": "3a93a59b-ea1a-424f-af86-29d240abb346",
   "metadata": {
    "tags": []
   },
   "outputs": [
    {
     "data": {
      "application/vnd.jupyter.widget-view+json": {
       "model_id": "aa12e31c341d4f31a6f168682008558a",
       "version_major": 2,
       "version_minor": 0
      },
      "text/plain": [
       "CytoscapeWidget(cytoscape_layout={'name': 'cola', 'nodeSpacing': 20, 'edgeLengthVal': 10}, cytoscape_style=[{'…"
      ]
     },
     "execution_count": 127,
     "metadata": {},
     "output_type": "execute_result"
    }
   ],
   "source": [
    "from pprint import pformat\n",
    "\n",
    "cyto_styles = [\n",
    "    {'selector': 'node[type = \"Address\"]', 'style': {\n",
    "        'font-family': 'helvetica',\n",
    "        'font-size': '10px',\n",
    "        'label': 'data(label)',\n",
    "        'background-color': 'blue'}},\n",
    "    {'selector': 'node[type = \"Entity\"]', 'style': {\n",
    "        'font-family': 'helvetica',\n",
    "        'font-size': '10px',\n",
    "        'label': 'data(label)',\n",
    "        'background-color': 'green'}},\n",
    "    {'selector': 'node[type = \"Intermediary\"]', 'style': {\n",
    "        'font-family': 'helvetica',\n",
    "        'font-size': '10px',\n",
    "        'label': 'data(label)',\n",
    "        'background-color': 'yellow'}},\n",
    "    {'selector': 'node[type = \"Officer\"]', 'style': {\n",
    "        'font-family': 'helvetica',\n",
    "        'font-size': '10px',\n",
    "        'label': 'data(label)',\n",
    "        'background-color': 'purple'}},\n",
    "    {'selector': 'node[type = \"Other\"]', 'style': {\n",
    "        'font-family': 'helvetica',\n",
    "        'font-size': '10px',\n",
    "        'label': 'data(label)',\n",
    "        'background-color': '#999999'}},\n",
    "    {'selector': 'node.flagged','style': {\n",
    "        'border-color': 'red',\n",
    "        'border-width': '4px'}},    \n",
    "    {'selector': 'node:parent',\n",
    "        'css': {\n",
    "            'background-opacity': 0.333\n",
    "        }\n",
    "    },\n",
    "    {'selector': 'edge', 'style': {\n",
    "        'width': 3,\n",
    "        'font-size': '9px',\n",
    "        'line-color': '#9dbaea',\n",
    "        'target-arrow-shape': 'triangle',\n",
    "        'target-arrow-color': '#9dbaea',\n",
    "        'curve-style': 'bezier',\n",
    "        'label': 'data(label)'\n",
    "    }\n",
    "}]\n",
    "\n",
    "cytoscapeobj = ipycytoscape.CytoscapeWidget()\n",
    "cytoscapeobj.graph.add_graph_from_json(graph_data)\n",
    "cytoscapeobj.set_layout(name='cola', nodeSpacing=20, edgeLengthVal=10)\n",
    "cytoscapeobj.set_style(cyto_styles)\n",
    "#display\n",
    "cytoscapeobj"
   ]
  },
  {
   "cell_type": "markdown",
   "id": "888ee8fe-b3b4-408a-822e-11b6a5d11097",
   "metadata": {
    "jp-MarkdownHeadingCollapsed": true,
    "tags": []
   },
   "source": [
    "### Full text query"
   ]
  },
  {
   "cell_type": "code",
   "execution_count": null,
   "id": "43204df6-e8f1-468b-8b82-f6326e241567",
   "metadata": {
    "tags": []
   },
   "outputs": [],
   "source": [
    "%%time\n",
    "\n",
    "ft_query = \"\"\"\n",
    "query ($filter: EntityFilter) {\n",
    "  queryEntity(filter: $filter) {\n",
    "    id: nodeID\n",
    "    type: __typename\n",
    "    name\n",
    "  }\n",
    "}\n",
    "\"\"\"\n",
    "variables = {\n",
    "    \"filter\": {\n",
    "        \"name\": {\n",
    "            \"anyoftext\": \"live\"\n",
    "        }\n",
    "    }\n",
    "}\n",
    "data = gql_client.execute(query=ft_query, variables=variables)\n",
    "for res in data['data']['queryEntity']:\n",
    "    print(res['name'])\n",
    "        "
   ]
  },
  {
   "cell_type": "markdown",
   "id": "03ba03e1-f2ed-4ce7-bd7c-255b8da5ef82",
   "metadata": {
    "jp-MarkdownHeadingCollapsed": true,
    "tags": []
   },
   "source": [
    "### Search via Geo-coordinates"
   ]
  },
  {
   "cell_type": "code",
   "execution_count": null,
   "id": "4a1a748c-e9a9-4b82-8ed6-96be071e75c0",
   "metadata": {
    "tags": []
   },
   "outputs": [],
   "source": [
    "geo_query = \"\"\"\n",
    "query ($filter: AddressFilter) {\n",
    "  queryAddress(filter: $filter) {\n",
    "    nodeID\n",
    "    name\n",
    "    location {\n",
    "      latitude\n",
    "      longitude\n",
    "    }\n",
    "    addressFor {\n",
    "      nodeID\n",
    "      __typename\n",
    "      name\n",
    "    }\n",
    "  }\n",
    "}\"\"\"\n",
    "variables = {\n",
    "  \"filter\": {\n",
    "    \"has\": \"location\"\n",
    "  }\n",
    "}\n",
    "\n",
    "data = gql_client.execute(query=geo_query, variables=variables)\n",
    "\n",
    "addresses_df = pd.json_normalize(data['data']['queryAddress'])\n",
    "\n",
    "def extract_names(l):\n",
    "    name = ''\n",
    "    for entry in l:\n",
    "        name += entry['__typename'] + \": \" + entry['name'] + \", \"\n",
    "    return name[0:len(name)-2]\n",
    "\n",
    "addresses_df = addresses_df.rename(columns={\"location.latitude\": \"lat\", \"location.longitude\": \"lon\"})\n",
    "addresses_df['addressFor'] = addresses_df['addressFor'].apply(lambda val: extract_names(val))\n",
    "addresses_df.sample(5)\n"
   ]
  },
  {
   "cell_type": "code",
   "execution_count": null,
   "id": "556c37b6-24f0-450e-99bc-2b4fbe300447",
   "metadata": {
    "tags": []
   },
   "outputs": [],
   "source": [
    "import bokeh.io\n",
    "from bokeh.plotting import gmap\n",
    "from bokeh.models import ColumnDataSource, GMapOptions\n",
    "from bokeh.io import output_file, show\n",
    "from bokeh.models import HoverTool\n",
    "from bokeh.resources import INLINE\n",
    "bokeh.io.output_notebook(INLINE)\n",
    "\n",
    "lat = 39.116386\n",
    "lng = -99.299591\n",
    "google_map_options = GMapOptions(lat = lat, lng = lng, map_type = \"hybrid\", zoom = 4)\n",
    "\n",
    "hover = HoverTool(\n",
    "        tooltips = [\n",
    "            ('address', '@name'),\n",
    "            ('addressFor', '@addressFor'), \n",
    "        ]\n",
    "    )\n",
    "\n",
    "google_maps_key = os.getenv(\"GOOGLE_MAPS_KEY\")\n",
    "google_map = gmap(google_maps_key, google_map_options, title=\"US Addresses\", \n",
    "                  tools=[hover, 'reset', 'wheel_zoom', 'pan'], width=1200, height=640)\n",
    "source = ColumnDataSource(addresses_df)\n",
    "google_map.square(x=\"lon\", y=\"lat\", size=8, fill_color=\"red\", fill_alpha=0.7, source=source)\n",
    "show(google_map)\n"
   ]
  },
  {
   "cell_type": "code",
   "execution_count": null,
   "id": "b498bc65-76ca-4534-8c72-15f415d19d2c",
   "metadata": {
    "tags": []
   },
   "outputs": [],
   "source": [
    "%%time\n",
    "\n",
    "# Query for addresses near point\n",
    "\n",
    "# syracuse ny\n",
    "lat = 43.088947\n",
    "lng = -76.154480\n",
    "# los angeles\n",
    "lat = 34.098907\n",
    "lng = -118.327759\n",
    "\n",
    "\n",
    "miles = 50\n",
    "meters = miles * 1609\n",
    "variables = {\n",
    "  \"filter\": {\n",
    "    \"location\": {\n",
    "      \"near\": {\n",
    "        \"coordinate\": {\n",
    "          \"latitude\": lat,\n",
    "          \"longitude\": lng\n",
    "        },\n",
    "        \"distance\": meters\n",
    "      }\n",
    "    }\n",
    "  }\n",
    "}\n",
    "\n",
    "data = gql_client.execute(query=geo_query, variables=variables)\n",
    "\n",
    "addresses_df = pd.json_normalize(data['data']['queryAddress'])\n",
    "\n",
    "addresses_df = addresses_df.rename(columns={\"location.latitude\": \"lat\", \"location.longitude\": \"lon\"})\n",
    "addresses_df['addressFor'] = addresses_df['addressFor'].apply(lambda val: extract_names(val))\n",
    "\n",
    "google_map_options = GMapOptions(lat = lat, lng = lng, map_type = \"hybrid\", zoom = 10)\n",
    "\n",
    "hover = HoverTool(\n",
    "        tooltips = [\n",
    "            ('address', '@name'),\n",
    "            ('addressFor', '@addressFor'), \n",
    "        ]\n",
    "    )\n",
    "\n",
    "google_map = gmap(google_maps_key, google_map_options, title=\"Addresses near Syracuse NY\", \n",
    "                  tools=[hover, 'reset', 'wheel_zoom', 'pan'], width=1200, height=640)\n",
    "source = ColumnDataSource(addresses_df)\n",
    "google_map.square(x=\"lon\", y=\"lat\", size=12, fill_color=\"red\", fill_alpha=0.7, source=source)\n",
    "show(google_map)"
   ]
  },
  {
   "cell_type": "markdown",
   "id": "73c07ac8-4756-4c5e-b4b6-c47699d7096e",
   "metadata": {
    "tags": []
   },
   "source": [
    "### Mutating Dgraph"
   ]
  },
  {
   "cell_type": "code",
   "execution_count": null,
   "id": "5e9e217a-d3b5-4ba4-90c2-2b44f9b2a7ad",
   "metadata": {
    "tags": []
   },
   "outputs": [],
   "source": [
    "def is_flagged(node):\n",
    "    return 'flagged' in node and len(node['flagged']) > 0\n",
    "                                 \n",
    "def convert_to_cyto_objs(nodes, edges):\n",
    "    graph_data = {\"nodes\": [], \"edges\": []}\n",
    "    # find the nodes\n",
    "    for node in nodes.items():\n",
    "        node = node[1]\n",
    "        entity_type = node['type']\n",
    "        classes = ''\n",
    "        if is_flagged(node):\n",
    "            classes = 'flagged'\n",
    "        graph_data['nodes'].append({\"data\": {\"id\": node['id'], \"label\": node['name'], \"type\": entity_type, \"flagged\": is_flagged(node)}, \"classes\": classes})\n",
    "    for edge in edges:\n",
    "        graph_data['edges'].append({\"data\": {\"source\": edge['src'], \"target\": edge['dst'], \"label\": edge['type']}})\n",
    "    return graph_data\n"
   ]
  },
  {
   "cell_type": "code",
   "execution_count": null,
   "id": "659b3490-72fd-4468-9ade-62e0355760b5",
   "metadata": {
    "tags": []
   },
   "outputs": [],
   "source": [
    "%%time\n",
    "\n",
    "recurse_query = \"\"\"\n",
    "{\n",
    "\tq(func: eq(Record.nodeID, \"236724\")) @recurse(depth: 5) {\n",
    "        # predicates to return for each recurse\n",
    "        id: Record.nodeID\n",
    "        name: Record.name\n",
    "        type: <dgraph.type>\n",
    "        \n",
    "        # predicates to loop through\n",
    "        addressFor: Record.addressFor(first: 30)\n",
    "        hasOfficer: Record.hasOfficer\n",
    "        hasIntermediary: Record.hasIntermediary\n",
    "        connectedTo: RecordRecord.connectedTo  \n",
    "    }\n",
    "}\n",
    "\"\"\"\n",
    "\n",
    "nodes = {}\n",
    "edges = []\n",
    "\n",
    "txn = client.txn(read_only=True)\n",
    "try:\n",
    "    res = txn.query(query=recurse_query)\n",
    "    results = json.loads(res.json)\n",
    "    extract_dict(nodes, edges, results)\n",
    "finally:\n",
    "    txn.discard()\n",
    "\n",
    "recurse_viz = ipycytoscape.CytoscapeWidget()\n",
    "recurse_viz.set_layout(name='cola', nodeSpacing=20, edgeLengthVal=10)\n",
    "recurse_viz.set_style(cyto_styles)\n",
    "cyto_obj = convert_to_cyto_objs(nodes, edges)\n",
    "recurse_viz.graph.add_graph_from_json(cyto_obj)\n",
    "#display\n",
    "recurse_viz"
   ]
  },
  {
   "cell_type": "code",
   "execution_count": null,
   "id": "34ed5fed-4d34-4dbb-98e6-f3994182bebe",
   "metadata": {
    "tags": []
   },
   "outputs": [],
   "source": [
    "# Update the GraphQL schema with 'flagged' predicate\n",
    "!curl --data-binary '@./schema-flagged.graphql' http://localhost:8080/admin/schema"
   ]
  },
  {
   "cell_type": "code",
   "execution_count": null,
   "id": "5680a5f1-25f4-47b8-a2e9-723b9815cff7",
   "metadata": {
    "tags": []
   },
   "outputs": [],
   "source": [
    "email = \"matthew.mcneely@gmail.com\"\n",
    "\n",
    "flagged_mutation = \"\"\"\n",
    "mutation ($input: UpdateRecordInput!) {\n",
    "  updateRecord(input: $input) {\n",
    "    numUids\n",
    "    record {\n",
    "      flagged\n",
    "    }\n",
    "  }\n",
    "}\n",
    "\"\"\"\n",
    "\n",
    "def record_click(node):\n",
    "    nodeID = node['data']['id']\n",
    "    variables = {\n",
    "      \"input\": {\n",
    "        \"filter\": {\n",
    "          \"nodeID\": {\n",
    "            \"eq\": nodeID\n",
    "          }\n",
    "        },\n",
    "        \"set\": {\n",
    "          \"flagged\": [email]\n",
    "        }\n",
    "      }\n",
    "    }\n",
    "    data = gql_client.execute(query=flagged_mutation, variables=variables)\n",
    "    print(data)\n",
    "\n",
    "recurse_viz.on('node', 'click', record_click)\n"
   ]
  },
  {
   "cell_type": "code",
   "execution_count": null,
   "id": "25cca65b-113c-4138-a5e4-46a00f4353fc",
   "metadata": {
    "tags": []
   },
   "outputs": [],
   "source": [
    "recurse_query = \"\"\"\n",
    "{\n",
    "\tq(func: eq(Record.nodeID, \"236724\")) @recurse(depth: 5) {\n",
    "        # predicates to return for each recurse\n",
    "        id: Record.nodeID\n",
    "        name: Record.name\n",
    "        type: <dgraph.type>\n",
    "        flagged: Record.flagged\n",
    "        \n",
    "        # predicates to loop through\n",
    "        addressFor: Record.addressFor(first: 30)\n",
    "        hasOfficer: Record.hasOfficer\n",
    "        hasIntermediary: Record.hasIntermediary\n",
    "        connectedTo: RecordRecord.connectedTo  \n",
    "    }\n",
    "}\n",
    "\"\"\"\n",
    "\n",
    "nodes = {}\n",
    "edges = []\n",
    "\n",
    "txn = client.txn(read_only=True)\n",
    "try:\n",
    "    res = txn.query(query=recurse_query)\n",
    "    results = json.loads(res.json)\n",
    "    extract_dict(nodes, edges, results)\n",
    "finally:\n",
    "    txn.discard()\n",
    "\n",
    "recurse_viz = ipycytoscape.CytoscapeWidget()\n",
    "recurse_viz.set_layout(name='cola', nodeSpacing=20, edgeLengthVal=10)\n",
    "recurse_viz.set_style(cyto_styles)\n",
    "cyto_obj = convert_to_cyto_objs(nodes, edges)\n",
    "recurse_viz.graph.add_graph_from_json(cyto_obj)\n",
    "#display\n",
    "recurse_viz"
   ]
  }
 ],
 "metadata": {
  "kernelspec": {
   "display_name": "Python 3 (ipykernel)",
   "language": "python",
   "name": "python3"
  },
  "language_info": {
   "codemirror_mode": {
    "name": "ipython",
    "version": 3
   },
   "file_extension": ".py",
   "mimetype": "text/x-python",
   "name": "python",
   "nbconvert_exporter": "python",
   "pygments_lexer": "ipython3",
   "version": "3.11.3"
  }
 },
 "nbformat": 4,
 "nbformat_minor": 5
}
