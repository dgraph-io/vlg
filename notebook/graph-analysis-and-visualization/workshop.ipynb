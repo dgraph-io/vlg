{
 "cells": [
  {
   "cell_type": "markdown",
   "id": "58ae3be6-268b-412a-8d37-d7d27fd5e66d",
   "metadata": {
    "tags": []
   },
   "source": [
    "# Using Dgraph to Explore the Offshore Leaks Dataset\n",
    "05.02.14:53"
   ]
  },
  {
   "cell_type": "markdown",
   "id": "5e45fd84-45be-47e0-82a7-bedee006074a",
   "metadata": {},
   "source": [
    "## Analyzing the Raw Data\n",
    "\n",
    "#### [Overview of the Raw Data](https://github.com/dgraph-io/vlg/blob/main/notes/1.%20Raw%20Data%20Analysis.md)\n",
    "\n",
    "#### Data Normalization and Sanitizing\n",
    "\n",
    "* [CSVKit to the rescue, an example](https://github.com/dgraph-io/vlg/blob/main/notes/csvstat/entities.txt)\n",
    "* [50 ~~First~~ Bad Dates](https://github.com/dgraph-io/vlg/blob/ba577e1b65ae4dfa93a002ccd2009fea1113578b/tools/model/date_time.go#L19)\n",
    "* [Non-null nulls](https://github.com/dgraph-io/vlg/blob/ba577e1b65ae4dfa93a002ccd2009fea1113578b/tools/model/entity.go#LL29C2-L29C2)\n",
    "\n",
    "#### Storing Clean Data Transiently\n",
    "\n",
    "* [Use Badger to store temporarily results (aka the export before the import)](https://github.com/dgraph-io/vlg/blob/ba577e1b65ae4dfa93a002ccd2009fea1113578b/tools/preload/main.go#L22)"
   ]
  },
  {
   "cell_type": "markdown",
   "id": "370b83f1-27bc-4d55-9392-d9b0cebb5923",
   "metadata": {},
   "source": [
    "## Dgraph Schemas Overview\n",
    "\n",
    "Dgraph supports two types of schemas: DQL and GraphQL.\n",
    "\n",
    "* DQL is a predicate-first focused schema language that supports some aspects not yet supported by the GraphQL syntax such as multi-lingual predicates and facets (data information stored on edges between nodes)\n",
    "* GraphQL is a type-first focused schema language that only supports spec-compliant elements such as types, unions, and interfaces"
   ]
  },
  {
   "cell_type": "markdown",
   "id": "9e9d7692-c656-4a88-bae0-a5e317f3e86f",
   "metadata": {},
   "source": [
    "## Building a GraphQL Schema for the Offshore Leaks Dataset\n",
    "\n",
    "Questions first, schema second, [description](https://github.com/dgraph-io/vlg/blob/main/notes/2.%20Schema%20Design.md#schema-design-1)\n",
    "\n",
    "* full term, text, trigram search for names, [schema ref](https://github.com/dgraph-io/vlg/blob/ba577e1b65ae4dfa93a002ccd2009fea1113578b/schema/schema.graphql#L28)\n",
    "* restrict by source (Panama Papers, Paradise Papers), [schema ref](https://github.com/dgraph-io/vlg/blob/ba577e1b65ae4dfa93a002ccd2009fea1113578b/schema/schema.graphql#L4)\n",
    "* query by geo-coordinates, [schema ref](https://github.com/dgraph-io/vlg/blob/ba577e1b65ae4dfa93a002ccd2009fea1113578b/schema/schema.graphql#L162)\n",
    "\n",
    "[The Schema ](vlg/schema/schema.graphql)"
   ]
  },
  {
   "cell_type": "code",
   "execution_count": null,
   "id": "86919c8b-bfb3-4494-93b6-885b26bd912d",
   "metadata": {},
   "outputs": [],
   "source": [
    "# Issue command to apply the Offshore Leaks schema\n",
    "!curl --data-binary '@./vlg/schema/schema.graphql' http://localhost:8080/admin/schema"
   ]
  },
  {
   "cell_type": "markdown",
   "id": "4ecca42e-8ad5-483e-8dec-563a5f0deda8",
   "metadata": {},
   "source": [
    "## Importing RDF Data into Dgraph\n",
    "\n",
    "1. Geo-locate US address lines using the US Census Address REST API (~17,000 or ~71%) were successful\n",
    "2. Export the transient Badger data to RDF-format using tools written in Go. A subset was exported for today's workshop"
   ]
  },
  {
   "cell_type": "code",
   "execution_count": null,
   "id": "4fb8538f-3165-4d68-89ec-c49b8348ec4f",
   "metadata": {},
   "outputs": [],
   "source": [
    "# Invoke the Dgraph Live Loader to populate the graph\n",
    "!dgraph live -f ./vlg/rdf-subset/data.rdf.gz"
   ]
  },
  {
   "cell_type": "markdown",
   "id": "abfe3545-17d0-4009-95f6-feddadd8397e",
   "metadata": {},
   "source": [
    "Dgraph supports two import formats (JSON and RDF). Dgraph provides two loading mechanisms, Live Loader and Bulk (Initial) Loader."
   ]
  },
  {
   "cell_type": "markdown",
   "id": "cb6a3747-91a6-4e4b-8309-d28880ff6415",
   "metadata": {},
   "source": [
    "----- time check t+25m ------"
   ]
  },
  {
   "cell_type": "markdown",
   "id": "12f6c5eb-22b6-485d-8300-ba5096d0f4f5",
   "metadata": {
    "tags": []
   },
   "source": [
    "### Imports and other Housekeeping"
   ]
  },
  {
   "cell_type": "code",
   "execution_count": null,
   "id": "d8ed12cd-a3b3-4e95-977e-e6ace5c85697",
   "metadata": {
    "tags": []
   },
   "outputs": [],
   "source": [
    "import os\n",
    "import json\n",
    "import pandas as pd\n",
    "import multiprocessing\n",
    "\n",
    "from utils import *\n",
    "\n",
    "# the host or IP addr where your Dgraph alpha service is running\n",
    "dgraph_addr = \"localhost\"\n",
    "\n",
    "# load API keys, etc from .env file\n",
    "from dotenv import load_dotenv\n",
    "\n",
    "if not load_dotenv():\n",
    "    display(warning(\"No .env file found, some cells may not render correctly\"))\n",
    "    "
   ]
  },
  {
   "cell_type": "markdown",
   "id": "6964ad45-9550-41c1-900c-375bc5c53356",
   "metadata": {},
   "source": [
    "## Dgraph Clients, Queries and Mutations Overview\n",
    "\n",
    "### GraphQL\n",
    "* Dgraph autogenerates GraphQL API when schema updated\n",
    "* Standard - Use dozens of IDEs, online tools, clients\n",
    "\n",
    "For example, [Apollo Studio](https://studio.apollographql.com/sandbox/explorer?endpoint=http://localhost:8080/graphql)\n",
    "\n",
    "### DQL\n",
    "* Dgraph's native query language\n",
    "* Clients for most programming languages\n",
    "* Ratel: [https://play.dgraph.io](https://play.dgraph.io?latest)"
   ]
  },
  {
   "cell_type": "code",
   "execution_count": null,
   "id": "1f22f7ea-871b-4dc2-9fd3-bbd4020994bb",
   "metadata": {
    "tags": []
   },
   "outputs": [],
   "source": [
    "# Create and connect a Dgraph DQL Client\n",
    "import pydgraph # official Dgraph python client\n",
    "\n",
    "client_stub = pydgraph.DgraphClientStub(addr='{}:9080'.format(dgraph_addr), options=[('grpc.max_receive_message_length', 1024*1024*1024)])\n",
    "client = pydgraph.DgraphClient(client_stub)\n",
    "print(\"pydgraph client, check version:\", client.check_version())\n",
    "\n",
    "# GraphQL client and admin client\n",
    "from python_graphql_client import GraphqlClient #  popular python GraphQL client\n",
    "\n",
    "gql_client = GraphqlClient(endpoint=\"http://{}:8080/graphql\".format(dgraph_addr))\n",
    "gql_admin_client = GraphqlClient(endpoint=\"http://{}:8080/admin\".format(dgraph_addr))\n",
    "data = gql_admin_client.execute(query=\"{health {status}}\")\n",
    "print(\"generic graphql client, check cluster health:\", data['data']['health'][0])"
   ]
  },
  {
   "cell_type": "markdown",
   "id": "a747e5f9-da2d-45c9-8939-15b89e0ab158",
   "metadata": {
    "tags": []
   },
   "source": [
    "### Issue a GraphQL Query"
   ]
  },
  {
   "cell_type": "code",
   "execution_count": null,
   "id": "5b800b95-e071-450c-9a06-dbb136f7e72d",
   "metadata": {},
   "outputs": [],
   "source": [
    "%%time\n",
    "\n",
    "# Issue a GraphQL Query to Get Record Counts\n",
    "query = \"\"\"\n",
    "query {\n",
    "    paradisePapers: aggregateRecord(filter: { sourceID: { eq: ParadisePapers } }) {count}\n",
    "    panamaPapers: aggregateRecord(filter: { sourceID: { eq: PanamaPapers } }) {count}\n",
    "    bahamasLeaks: aggregateRecord(filter: { sourceID: { eq: BahamasLeaks } }) {count}\n",
    "    offshoreLeaks: aggregateRecord(filter: { sourceID: { eq: OffshoreLeaks} }) {count}\n",
    "    pandoraPapers: aggregateRecord(filter: { sourceID: { eq: PandoraPapers} }) {count}\n",
    "    total: aggregateRecord() {count}\n",
    "}\n",
    "\"\"\"\n",
    "data = gql_client.execute(query=query)\n",
    "del data['extensions'] #drop the Dgraph metrics attributes\n",
    "print(json.dumps(data, indent=2))\n",
    "print(\"----------\")"
   ]
  },
  {
   "cell_type": "markdown",
   "id": "81042163-86e7-461a-841e-c49f19867487",
   "metadata": {},
   "source": [
    "### Full-text query\n",
    "Uses stems and removes stop words"
   ]
  },
  {
   "cell_type": "code",
   "execution_count": null,
   "id": "43204df6-e8f1-468b-8b82-f6326e241567",
   "metadata": {
    "tags": []
   },
   "outputs": [],
   "source": [
    "%%time\n",
    "\n",
    "ft_query = \"\"\"\n",
    "query ($filter: EntityFilter) {\n",
    "  queryEntity(filter: $filter) {\n",
    "    name\n",
    "  }\n",
    "}\n",
    "\"\"\"\n",
    "variables = {\n",
    "    \"filter\": {\n",
    "        \"name\": {\n",
    "            \"anyoftext\": \"live\"\n",
    "        }\n",
    "    }\n",
    "}\n",
    "data = gql_client.execute(query=ft_query, variables=variables)\n",
    "for res in data['data']['queryEntity']:\n",
    "    print(res['name'])\n",
    "print(\"-----------\")        "
   ]
  },
  {
   "cell_type": "markdown",
   "id": "a2bc5830-3dcf-44b2-9442-5e2f088bc6f2",
   "metadata": {
    "tags": []
   },
   "source": [
    "### Regular Expression Query"
   ]
  },
  {
   "cell_type": "code",
   "execution_count": null,
   "id": "b05f9d43-1a3c-41dc-bf98-deb9b1f2e0c9",
   "metadata": {
    "tags": []
   },
   "outputs": [],
   "source": [
    "%%time\n",
    "\n",
    "# query for either limited or ltd, ignoring case\n",
    "regex_query = \"\"\"\n",
    "query {\n",
    "  queryRecord(filter: { name: { regexp: \"/.LTD|Limited*/i\" } }, first: 10) {\n",
    "    id: nodeID\n",
    "    type: __typename\n",
    "    name\n",
    "  }\n",
    "}\n",
    "\"\"\"\n",
    "data = gql_client.execute(query=regex_query)\n",
    "for res in data['data']['queryRecord']:\n",
    "    print(res['name'])\n",
    "print(\"-------------\")\n"
   ]
  },
  {
   "cell_type": "markdown",
   "id": "284ddd94-9313-44aa-b48d-a5f8b103d73a",
   "metadata": {
    "tags": []
   },
   "source": [
    "### Dgraph Query Funcs for Extracting Nodes and Edges from Query Results"
   ]
  },
  {
   "cell_type": "code",
   "execution_count": null,
   "id": "2e6d29c5-7bfb-47dc-b484-ad6e43e1b54f",
   "metadata": {
    "tags": []
   },
   "outputs": [],
   "source": [
    "def update_node(nodes: dict, key: str, value: dict):\n",
    "    if not key in nodes:\n",
    "        nodes[key] = {}\n",
    "    for k, v in value.items():\n",
    "        if not isinstance(v, list):\n",
    "            nodes[key][k] = v\n",
    "\n",
    "def extract_dict(nodes: dict, edges: list, data: dict, parent: dict = None, name: str = None):\n",
    "    \"\"\"Recursively extract nodes and edges from a dict created from the result of a Dgraph query.\n",
    "\n",
    "    Nodes (vertices) from the query must have an ``id`` field in order to be recognized\n",
    "    as a node. Optionally, if a ``type`` field is present (either as a list or a string),\n",
    "    the type will be applied to the node. Nodes encountered in more than one place in the\n",
    "    query result will be merged.\n",
    "\n",
    "    Edges are automatically extracted from the query result. If a node has an an id and a parent,\n",
    "    a relationship is made. The relationship predicate name is assigned as the edge type.\n",
    "    \"\"\"\n",
    "    if isinstance(data, dict):\n",
    "        # ignore the Dgraph 'extensions' field\n",
    "        if name == \"extensions\":\n",
    "            return\n",
    "        # id is a special field, we use it to identify nodes\n",
    "        if \"id\" in data:\n",
    "            update_node(nodes, data['id'], data)\n",
    "            # if we have a parent, add an edge\n",
    "            if parent and \"id\" in parent:\n",
    "                edges.append(\n",
    "                    {\"src\": parent[\"id\"], \"dst\": data[\"id\"], \"type\": name})\n",
    "        # recurse into the dict\n",
    "        for key, value in data.items():\n",
    "            if isinstance(value, dict):\n",
    "                extract_dict(nodes, edges, value, data, key)\n",
    "            elif isinstance(value, list) and len(value) > 0:\n",
    "                # if the list is named 'type', assign it to the node\n",
    "                if key == \"type\":\n",
    "                    update_node(nodes, data[\"id\"], {\"type\": value[0]})\n",
    "                    continue\n",
    "                # else, recurse into the list if it contains dicts\n",
    "                if isinstance(value[0], dict):\n",
    "                    for v in value:\n",
    "                        extract_dict(nodes, edges, v, data, key)\n",
    "                # if the list is of scalars, assign it to the node\n",
    "                else:\n",
    "                    nodes[data['id']][key] = value\n",
    "\n"
   ]
  },
  {
   "cell_type": "markdown",
   "id": "2851a301-766a-4667-967e-5be06efcc77b",
   "metadata": {},
   "source": [
    "## Load nodes and edges from the graph"
   ]
  },
  {
   "cell_type": "code",
   "execution_count": null,
   "id": "4af762c2-5d87-42ea-bfdf-ad26098630ad",
   "metadata": {
    "tags": []
   },
   "outputs": [],
   "source": [
    "import threading\n",
    "import concurrent.futures\n",
    "import time\n",
    "\n",
    "# Query to extract all records and  edges from the graph\n",
    "recordQuery = \"\"\"\n",
    "query ($queryRecordOffset: Int, $queryRecordFirst: Int) {\n",
    "  queryRecord(offset: $queryRecordOffset, first: $queryRecordFirst) {\n",
    "    id: nodeID\n",
    "    type: __typename\n",
    "    name\n",
    "    sourceID\n",
    "    hasAddress {\n",
    "      id: nodeID\n",
    "    }\n",
    "    hasOfficer {\n",
    "      id: nodeID\n",
    "    }\n",
    "    hasIntermediary {\n",
    "      id: nodeID\n",
    "    }\n",
    "    connectedTo {\n",
    "      id: nodeID\n",
    "    }\n",
    "  }\n",
    "}\n",
    "\"\"\"\n",
    "\n",
    "def query(offset, first):\n",
    "    variables = {\n",
    "        \"queryRecordOffset\": offset,\n",
    "        \"queryRecordFirst\": first\n",
    "    }\n",
    "    data = gql_client.execute(query=recordQuery, variables=variables)\n",
    "    return data, offset\n",
    "\n",
    "def load_all_nodes_and_edges(nodes: dict, edges: list):\n",
    "    count_query = \"\"\"\n",
    "    query {\n",
    "      total: aggregateRecord {\n",
    "        count\n",
    "      }\n",
    "    }\n",
    "    \"\"\"\n",
    "    data = gql_client.execute(query=count_query)\n",
    "    totalRecords = data['data']['total']['count']\n",
    "    start = time.time()\n",
    "\n",
    "    print(\"Loading nodes and edges using\", int(multiprocessing.cpu_count()/2), \"cores...\")\n",
    "    executor = concurrent.futures.ThreadPoolExecutor(max_workers=int(multiprocessing.cpu_count()/2))\n",
    "    f = []\n",
    "    step = 25000\n",
    "    lock = threading.Lock()\n",
    "    for i in range(0, totalRecords-1, step):\n",
    "        f.append(executor.submit(query, i, step))\n",
    "    for r in concurrent.futures.as_completed(f):\n",
    "        data = r.result()\n",
    "        with lock:\n",
    "            print(\"retrieved\", data[1]+1, \"thru\", data[1]+step, \"record count:\", len((data[0]['data']['queryRecord'])))\n",
    "            extract_dict(nodes, edges, data[0])\n",
    "        \n",
    "    end = time.time()\n",
    "    print('frames and edges loaded in', end - start, 'seconds')\n",
    "    print('node count', len(nodes))\n",
    "    print('edges count', len(edges))"
   ]
  },
  {
   "cell_type": "code",
   "execution_count": null,
   "id": "445733b0-3aee-46ab-ba92-0fd3c2d121b4",
   "metadata": {
    "tags": []
   },
   "outputs": [],
   "source": [
    "%%time\n",
    "\n",
    "nodes = {}\n",
    "edges = []\n",
    "load_all_nodes_and_edges(nodes, edges)"
   ]
  },
  {
   "cell_type": "code",
   "execution_count": null,
   "id": "027db060-1183-4f7c-b562-776340349a1f",
   "metadata": {},
   "outputs": [],
   "source": [
    "---- time check T+45m ----"
   ]
  },
  {
   "cell_type": "markdown",
   "id": "e7f42db0-8ea7-409d-bec0-da796425d887",
   "metadata": {},
   "source": [
    "## Visualize the Graph"
   ]
  },
  {
   "cell_type": "code",
   "execution_count": null,
   "id": "440c42ee-06c8-405d-a089-4163e26fbc3d",
   "metadata": {
    "tags": []
   },
   "outputs": [],
   "source": [
    "nodes_df = pd.DataFrame.from_dict(nodes, orient = 'index')\n",
    "nodes_df.sample(5)"
   ]
  },
  {
   "cell_type": "code",
   "execution_count": null,
   "id": "5ead87c2-c354-4fb2-aed0-e3d235812646",
   "metadata": {
    "tags": []
   },
   "outputs": [],
   "source": [
    "edges_df = pd.DataFrame(edges)\n",
    "edges_df.sample(5)"
   ]
  },
  {
   "cell_type": "code",
   "execution_count": null,
   "id": "266425ac-ddd9-40be-be74-a3ba32de19f3",
   "metadata": {
    "tags": []
   },
   "outputs": [],
   "source": [
    "import graphistry\n",
    "\n",
    "graphistry_login()\n",
    "\n",
    "g = graphistry.nodes(nodes_df, 'id').edges(edges_df, 'src', 'dst').bind(point_title='name')\n",
    "g2 = g.encode_point_color('type', categorical_mapping={'Entity': '#3bdbdb', 'Intermediary': '#E99233', 'Officer': '#6DB364', 'Address': '#F7D82F'}, default_mapping='gray')\n",
    "g3 = g2.encode_point_icon('type', shape=\"circle\", #clip excess\n",
    "  categorical_mapping={\n",
    "      'Entity': 'fa-building',\n",
    "      'Intermediary': 'fa-handshake-o',\n",
    "      'Address': 'fa-map-marker',\n",
    "      'Officer': 'fa-user'\n",
    "  },\n",
    "  default_mapping=\"question\")\n",
    "\n",
    "g3.plot()"
   ]
  },
  {
   "cell_type": "markdown",
   "id": "23efe514-4542-4ce0-b1ce-e17093be392e",
   "metadata": {
    "tags": []
   },
   "source": [
    "## Graph Analysis\n",
    "with networkx"
   ]
  },
  {
   "cell_type": "code",
   "execution_count": null,
   "id": "fed13f84-284b-4a75-b26c-0f5410f8c91a",
   "metadata": {
    "tags": []
   },
   "outputs": [],
   "source": [
    "import networkx as nx\n",
    "\n",
    "G = nx.from_pandas_edgelist(\n",
    "    edges_df,\n",
    "    source=\"src\",\n",
    "    target=\"dst\",\n",
    "    edge_key=\"type\",\n",
    "    create_using=nx.DiGraph()\n",
    ")\n",
    "print(G)\n",
    "print(\"Network density:\", \"%.8f\" % nx.density(G))\n",
    "try:\n",
    "    print(\"Diameter:\", nx.diameter(G))\n",
    "except nx.NetworkXError as e:\n",
    "    print(\"Error gettting diameter\", e)"
   ]
  },
  {
   "cell_type": "code",
   "execution_count": null,
   "id": "55d141a2-019d-4e59-89c3-09fca13a0b1e",
   "metadata": {
    "tags": []
   },
   "outputs": [],
   "source": [
    "#find top 10 nodes by degree\n",
    "sorted_deg = sorted(G.degree, key=lambda x: x[1], reverse=True)\n",
    "for n in range(10):\n",
    "    nodeID = sorted_deg[n][0]\n",
    "    print(n+1, nodeID, nodes[nodeID]['name'], ', type:', nodes[nodeID]['type'], \", degrees:\", sorted_deg[n][1])"
   ]
  },
  {
   "cell_type": "code",
   "execution_count": null,
   "id": "0ee9601a-e505-45e9-bd64-31e22bc0a482",
   "metadata": {
    "tags": []
   },
   "outputs": [],
   "source": [
    "%%time\n",
    "\n",
    "# find top 10 entities by pagerank\n",
    "pageranks = nx.pagerank(G)\n",
    "sorted_pr = sorted(pageranks.items(), key=lambda x: x[1], reverse=True)\n",
    "for n in range(10):\n",
    "    nodeID = sorted_pr[n][0]\n",
    "    print(n+1, nodeID, nodes[nodeID]['name'], ', type:', nodes[nodeID]['type'], \", pagerank:\", '{:.8f}'.format(pageranks[nodeID]))"
   ]
  },
  {
   "cell_type": "code",
   "execution_count": null,
   "id": "ece16b31-5cf7-4ee7-b8f9-3d835bfd334c",
   "metadata": {
    "tags": []
   },
   "outputs": [],
   "source": [
    "# distribution of record pagerank scores\n",
    "sorted_pr_df = pd.DataFrame(sorted_pr)\n",
    "plt = sorted_pr_df[1].hist(bins=8, range=[0.0,0.005])\n",
    "plt.set_ylabel(\"Records\")\n",
    "plt.set_xlabel(\"Page Rank\")\n",
    "plt.set_title(\"Distribution of Node Page Rank\")"
   ]
  },
  {
   "cell_type": "code",
   "execution_count": null,
   "id": "0790f04a-62eb-451d-9a27-91df1895bde4",
   "metadata": {
    "tags": []
   },
   "outputs": [],
   "source": [
    "%%time\n",
    "\n",
    "# extract to top 150 pageranked record ids from the sorted pagerank list\n",
    "top_nodes_by_pagerank = list(list(zip(*sorted_pr[0:150]))[0])\n",
    "\n",
    "recurse_query_for_pr = \"\"\"\n",
    "{\n",
    "    q(func: eq(Record.nodeID, {LIST})) @recurse(depth: 8) {\n",
    "        # predicates to return for each recurse\n",
    "        id: Record.nodeID\n",
    "        name: Record.name\n",
    "        type: <dgraph.type>\n",
    "        # predicates to loop through\n",
    "        hasaddress: Record.hasAddress\n",
    "        addressFor: RecordRecord.addressFor\n",
    "        hasOfficer: Record.hasOfficer\n",
    "        officerFor: Record.officerFor\n",
    "        hasIntermediary: Record.hasIntermediary\n",
    "        intermediaryFor: Record.intermediaryFor\n",
    "        connectedTo: RecordRecord.connectedTo  \n",
    "  }\n",
    "}\n",
    "\"\"\"\n",
    "recurse_query_for_pr = recurse_query_for_pr.replace(\"{LIST}\", json.dumps(top_nodes_by_pagerank))\n",
    "res = client.txn(read_only=True).query(recurse_query_for_pr)\n",
    "data = json.loads(res.json)\n"
   ]
  },
  {
   "cell_type": "code",
   "execution_count": null,
   "id": "cde1410b-f425-41d2-86c5-c66758a658cf",
   "metadata": {
    "tags": []
   },
   "outputs": [],
   "source": [
    "nodes = {}\n",
    "edges = []\n",
    "extract_dict(nodes, edges, data)\n",
    "\n",
    "edges_df = pd.DataFrame(edges)\n",
    "nodes_df = pd.DataFrame.from_dict(nodes, orient = 'index')\n",
    "print(\"nodes count:\", nodes_df.shape[0])\n",
    "print(\"edges count:\", edges_df.shape[0])"
   ]
  },
  {
   "cell_type": "code",
   "execution_count": null,
   "id": "0632328e-bbb0-42de-9673-0859eb306a90",
   "metadata": {
    "tags": []
   },
   "outputs": [],
   "source": [
    "g4 = graphistry.nodes(nodes_df, 'id').edges(edges_df, 'src', 'dst').bind(point_title='name')\n",
    "g5 = g4.encode_point_color('type', categorical_mapping={'Entity': '#3bdbdb', 'Intermediary': '#E99233', 'Officer': '#6DB364', 'Address': '#F7D82F'}, default_mapping='gray')\n",
    "g6 = g5.encode_point_icon('type', shape=\"circle\", #clip excess\n",
    "  categorical_mapping={\n",
    "      'Entity': 'fa-building',\n",
    "      'Intermediary': 'fa-handshake-o',\n",
    "      'Address': 'fa-map-marker',\n",
    "      'Officer': 'fa-user'\n",
    "  },\n",
    "  default_mapping=\"question\")\n",
    "g6.plot()"
   ]
  },
  {
   "cell_type": "markdown",
   "id": "b913e1ca-54f5-44ae-b2ff-6f4db0e5e370",
   "metadata": {
    "tags": []
   },
   "source": [
    "## Path Discovery\n",
    "\n",
    "For instance, is there any connection between [The Duchy of Lancaster](https://www.google.com/maps/place/The+Duchy+of+Lancaster/@51.5103577,-0.1185369,3a,75y,90t/data=!3m8!1e2!3m6!1sAF1QipN1qKb8oPQi8V2B0p41M2VEw_87O3e9kBQDY3_4!2e10!3e12!6shttps:%2F%2Flh5.googleusercontent.com%2Fp%2FAF1QipN1qKb8oPQi8V2B0p41M2VEw_87O3e9kBQDY3_4%3Dw124-h86-k-no!7i2750!8i1894!4m7!3m6!1s0x487604ca1a382113:0x9abd9f1000dcce88!8m2!3d51.5103081!4d-0.1186846!10e5!16s%2Fg%2F1hc90lp5r) and [this address](https://goo.gl/maps/p34SchektxYGDJuCA) in Bermuda?\n"
   ]
  },
  {
   "cell_type": "code",
   "execution_count": null,
   "id": "7c491651-ec9c-4481-8e5a-68448de8a701",
   "metadata": {
    "tags": []
   },
   "outputs": [],
   "source": [
    "%%time\n",
    "\n",
    "shortest_dql_query = \"\"\"\n",
    "query shortest($from: string, $to: string) {\n",
    "\n",
    "  FROM as var(func: eq(Record.name, $from))\n",
    "  TO as var(func: eq(Record.name, $to))\n",
    "    \n",
    "  P as shortest(from: uid(FROM), to: uid(TO)) {\n",
    "    Record.hasAddress\n",
    "    Record.addressFor\n",
    "    Record.hasIntermediary\n",
    "    Record.intermediaryFor\n",
    "    Record.hasOfficer\n",
    "    Record.officerFor\n",
    "    Record.connectedTo\n",
    "  }\n",
    "    \n",
    "  path(func: uid(P)) {\n",
    "   uid\n",
    "   Record.nodeID\n",
    "   Record.name\n",
    "   <dgraph.type>\n",
    "  }\n",
    "}\n",
    "\"\"\"\n",
    "\n",
    "from_node = 'The Duchy of Lancaster'\n",
    "to_node = 'Suite 1090; 48 Par La Ville Road; Hamilton HM 11; Bermuda'\n",
    "\n",
    "variables = {'$from': from_node, '$to': to_node}\n",
    "\n",
    "res = client.txn(read_only=True).query(query=shortest_dql_query, variables=variables)\n",
    "paths = json.loads(res.json)\n",
    "print(json.dumps(paths, indent=2))\n",
    "    \n",
    "for path in paths['path']:\n",
    "    print(path)\n"
   ]
  },
  {
   "cell_type": "code",
   "execution_count": null,
   "id": "3fb9175a-6659-4b9f-a7cc-c1b516856933",
   "metadata": {
    "tags": []
   },
   "outputs": [],
   "source": [
    "import ipycytoscape\n",
    "\n",
    "graph_data = {\"nodes\": [], \"edges\": []}\n",
    "# find the nodes\n",
    "for idx, path in enumerate(paths['path']):\n",
    "    entity_type = path['dgraph.type'][0]\n",
    "    #graph_data['nodes'].append({\"data\": {\"id\": path['Record.nodeID'], \"label\": path['Record.name'], \"tooltip\": \"<div style='background-color:white'>foo</div>\"}, \"classes\": entity_type})\n",
    "    graph_data['nodes'].append({\"data\": {\"id\": path['Record.nodeID'], \"label\": path['Record.name'], \"type\": entity_type}, \"classes\": entity_type})\n",
    "    if idx < len(paths['path'])-1:\n",
    "        graph_data['edges'].append({\"data\": {\"uid\": path['uid'], \"source\": path['Record.nodeID'], \"target\": paths['path'][idx+1]['Record.nodeID']}})\n",
    "\n",
    "def find_edge_type(d: dict):\n",
    "    uid = d['uid']\n",
    "    for key, entry in d.items():\n",
    "        if isinstance(entry, dict):\n",
    "            for edge in graph_data['edges']:\n",
    "                if edge['data']['uid'] == uid:\n",
    "                    edge['data']['label'] = key[7:]\n",
    "            find_edge_type(entry)\n",
    " \n",
    "        \n",
    "# recursively find the edge types\n",
    "find_edge_type(paths['_path_'][0])\n",
    "                           \n",
    "print(graph_data)"
   ]
  },
  {
   "cell_type": "code",
   "execution_count": null,
   "id": "3a93a59b-ea1a-424f-af86-29d240abb346",
   "metadata": {
    "tags": []
   },
   "outputs": [],
   "source": [
    "cyto_styles = [\n",
    "    {'selector': 'node[type = \"Address\"]', 'style': {\n",
    "        'font-family': 'helvetica',\n",
    "        'font-size': '10px',\n",
    "        'label': 'data(label)',\n",
    "        'background-color': '#E99233',\n",
    "        'background-image': 'https://raw.githubusercontent.com/FortAwesome/Font-Awesome/master/svgs/solid/map-marker.svg',\n",
    "        \"background-width\": \"50%\",\n",
    "        \"background-height\": \"50%\"}},\n",
    "    {'selector': 'node[type = \"Entity\"]', 'style': {\n",
    "        'font-family': 'helvetica',\n",
    "        'font-size': '10px',\n",
    "        'label': 'data(label)',\n",
    "        'background-color': '#3bdbdb',\n",
    "        'background-image': 'https://raw.githubusercontent.com/FortAwesome/Font-Awesome/master/svgs/solid/building.svg',\n",
    "        \"background-width\": \"50%\",\n",
    "        \"background-height\": \"50%\"}},\n",
    "    {'selector': 'node[type = \"Intermediary\"]', 'style': {\n",
    "        'font-family': 'helvetica',\n",
    "        'font-size': '10px',\n",
    "        'label': 'data(label)',\n",
    "        'background-color': '#E99233',\n",
    "       'background-image': 'https://raw.githubusercontent.com/FortAwesome/Font-Awesome/master/svgs/solid/handshake.svg',\n",
    "        \"background-width\": \"50%\",\n",
    "        \"background-height\": \"50%\"}},\n",
    "    {'selector': 'node[type = \"Officer\"]', 'style': {\n",
    "        'font-family': 'helvetica',\n",
    "        'font-size': '10px',\n",
    "        'label': 'data(label)',\n",
    "        'background-color': '#6DB364',\n",
    "        'background-image': 'https://raw.githubusercontent.com/FortAwesome/Font-Awesome/master/svgs/solid/user.svg',\n",
    "        \"background-width\": \"50%\",\n",
    "        \"background-height\": \"50%\"}},\n",
    "    {'selector': 'node[type = \"Other\"]', 'style': {\n",
    "        'font-family': 'helvetica',\n",
    "        'font-size': '10px',\n",
    "        'label': 'data(label)',\n",
    "        'background-color': '#999999'}},\n",
    "    {'selector': 'node.flagged','style': {\n",
    "        'border-color': 'red',\n",
    "        'border-width': '4px'}},    \n",
    "    {'selector': 'node:parent',\n",
    "        'css': {\n",
    "            'background-opacity': 0.333\n",
    "        }\n",
    "    },\n",
    "    {'selector': 'edge', 'style': {\n",
    "        'width': 3,\n",
    "        'font-size': '9px',\n",
    "        'line-color': '#9dbaea',\n",
    "        'target-arrow-shape': 'triangle',\n",
    "        'target-arrow-color': '#9dbaea',\n",
    "        'curve-style': 'bezier',\n",
    "        'label': 'data(label)'\n",
    "    }\n",
    "}]\n",
    "\n",
    "cytoscapeobj = ipycytoscape.CytoscapeWidget()\n",
    "cytoscapeobj.graph.add_graph_from_json(graph_data)\n",
    "cytoscapeobj.set_layout(name='cola', nodeSpacing=20, edgeLengthVal=10)\n",
    "cytoscapeobj.set_style(cyto_styles)\n",
    "#display\n",
    "cytoscapeobj"
   ]
  },
  {
   "cell_type": "code",
   "execution_count": null,
   "id": "c8115094-9da2-44b0-baab-9b84fe2d053b",
   "metadata": {},
   "outputs": [],
   "source": [
    "---- time check T+65m ----"
   ]
  },
  {
   "cell_type": "markdown",
   "id": "03ba03e1-f2ed-4ce7-bd7c-255b8da5ef82",
   "metadata": {
    "tags": []
   },
   "source": [
    "### Search via Geo-coordinates\n",
    "\n",
    "* Dgraph supports a  type 'geo' to store Points, Polygons, and MultiPolygons (OpenGeo Consortium-style geometries using geojson notation)\n",
    "* Dgraph implements a \"geo\" index, allowing fast execution of 'near', 'within', 'contains', and 'intersects' functions in DQL queries"
   ]
  },
  {
   "cell_type": "code",
   "execution_count": null,
   "id": "4a1a748c-e9a9-4b82-8ed6-96be071e75c0",
   "metadata": {
    "tags": []
   },
   "outputs": [],
   "source": [
    "geo_query = \"\"\"\n",
    "query ($filter: AddressFilter) {\n",
    "  queryAddress(filter: $filter) {\n",
    "    nodeID\n",
    "    name\n",
    "    location {\n",
    "      latitude\n",
    "      longitude\n",
    "    }\n",
    "    addressFor {\n",
    "      nodeID\n",
    "      __typename\n",
    "      name\n",
    "    }\n",
    "  }\n",
    "}\"\"\"\n",
    "variables = {\n",
    "  \"filter\": {\n",
    "    \"has\": \"location\"\n",
    "  }\n",
    "}\n",
    "\n",
    "data = gql_client.execute(query=geo_query, variables=variables)\n",
    "\n",
    "addresses_df = pd.json_normalize(data['data']['queryAddress'])\n",
    "\n",
    "def extract_names(l):\n",
    "    name = ''\n",
    "    for entry in l:\n",
    "        name += entry['__typename'] + \": \" + entry['name'] + \", \"\n",
    "    return name[0:len(name)-2]\n",
    "\n",
    "addresses_df = addresses_df.rename(columns={\"location.latitude\": \"lat\", \"location.longitude\": \"lon\"})\n",
    "addresses_df['addressFor'] = addresses_df['addressFor'].apply(lambda val: extract_names(val))\n",
    "addresses_df.sample(5)\n"
   ]
  },
  {
   "cell_type": "code",
   "execution_count": null,
   "id": "556c37b6-24f0-450e-99bc-2b4fbe300447",
   "metadata": {
    "tags": []
   },
   "outputs": [],
   "source": [
    "import bokeh.io\n",
    "from bokeh.plotting import gmap\n",
    "from bokeh.models import ColumnDataSource, GMapOptions\n",
    "from bokeh.io import output_file, show\n",
    "from bokeh.models import HoverTool\n",
    "from bokeh.resources import INLINE\n",
    "bokeh.io.output_notebook(INLINE)\n",
    "\n",
    "lat = 39.116386\n",
    "lng = -99.299591\n",
    "google_map_options = GMapOptions(lat = lat, lng = lng, map_type = \"hybrid\", zoom = 4)\n",
    "\n",
    "hover = HoverTool(\n",
    "        tooltips = [\n",
    "            ('address', '@name'),\n",
    "            ('addressFor', '@addressFor'), \n",
    "        ]\n",
    "    )\n",
    "\n",
    "google_maps_key = os.getenv(\"GOOGLE_MAPS_KEY\")\n",
    "google_map = gmap(google_maps_key, google_map_options, title=\"US Addresses\", \n",
    "                  tools=[hover, 'reset', 'wheel_zoom', 'pan'], width=1200, height=640)\n",
    "source = ColumnDataSource(addresses_df)\n",
    "google_map.square(x=\"lon\", y=\"lat\", size=8, fill_color=\"red\", fill_alpha=0.7, source=source)\n",
    "show(google_map)\n"
   ]
  },
  {
   "cell_type": "code",
   "execution_count": null,
   "id": "b498bc65-76ca-4534-8c72-15f415d19d2c",
   "metadata": {
    "tags": []
   },
   "outputs": [],
   "source": [
    "%%time\n",
    "\n",
    "# Query for addresses within 50 miles of a point\n",
    "\n",
    "# syracuse ny\n",
    "lat = 43.088947\n",
    "lng = -76.154480\n",
    "# los angeles\n",
    "#lat = 34.098907\n",
    "#lng = -118.327759\n",
    "\n",
    "\n",
    "miles = 50\n",
    "meters = miles * 1609\n",
    "variables = {\n",
    "  \"filter\": {\n",
    "    \"location\": {\n",
    "      \"near\": {\n",
    "        \"coordinate\": {\n",
    "          \"latitude\": lat,\n",
    "          \"longitude\": lng\n",
    "        },\n",
    "        \"distance\": meters\n",
    "      }\n",
    "    }\n",
    "  }\n",
    "}\n",
    "\n",
    "data = gql_client.execute(query=geo_query, variables=variables)\n",
    "\n",
    "addresses_df = pd.json_normalize(data['data']['queryAddress'])\n",
    "\n",
    "addresses_df = addresses_df.rename(columns={\"location.latitude\": \"lat\", \"location.longitude\": \"lon\"})\n",
    "addresses_df['addressFor'] = addresses_df['addressFor'].apply(lambda val: extract_names(val))\n",
    "\n",
    "google_map_options = GMapOptions(lat = lat, lng = lng, map_type = \"hybrid\", zoom = 10)\n",
    "\n",
    "hover = HoverTool(\n",
    "        tooltips = [\n",
    "            ('address', '@name'),\n",
    "            ('addressFor', '@addressFor'), \n",
    "        ]\n",
    "    )\n",
    "\n",
    "google_map = gmap(google_maps_key, google_map_options, title=\"Addresses near Syracuse NY\", \n",
    "                  tools=[hover, 'reset', 'wheel_zoom', 'pan'], width=1200, height=640)\n",
    "source = ColumnDataSource(addresses_df)\n",
    "google_map.square(x=\"lon\", y=\"lat\", size=12, fill_color=\"red\", fill_alpha=0.7, source=source)\n",
    "show(google_map)"
   ]
  },
  {
   "cell_type": "markdown",
   "id": "73c07ac8-4756-4c5e-b4b6-c47699d7096e",
   "metadata": {
    "tags": []
   },
   "source": [
    "## Recursive Queries"
   ]
  },
  {
   "cell_type": "code",
   "execution_count": null,
   "id": "5e9e217a-d3b5-4ba4-90c2-2b44f9b2a7ad",
   "metadata": {
    "tags": []
   },
   "outputs": [],
   "source": [
    "def is_flagged(node):\n",
    "    return 'flagged' in node and len(node['flagged']) > 0\n",
    "                                 \n",
    "def convert_to_cyto_objs(nodes, edges):\n",
    "    graph_data = {\"nodes\": [], \"edges\": []}\n",
    "    # find the nodes\n",
    "    for node in nodes.items():\n",
    "        node = node[1]\n",
    "        entity_type = node['type']\n",
    "        classes = ''\n",
    "        if is_flagged(node):\n",
    "            classes = 'flagged'\n",
    "        graph_data['nodes'].append({\"data\": {\"id\": node['id'], \"label\": node['name'], \"type\": entity_type, \"flagged\": is_flagged(node)}, \"classes\": classes})\n",
    "    for edge in edges:\n",
    "        graph_data['edges'].append({\"data\": {\"source\": edge['src'], \"target\": edge['dst'], \"label\": edge['type']}})\n",
    "    return graph_data\n"
   ]
  },
  {
   "cell_type": "code",
   "execution_count": null,
   "id": "659b3490-72fd-4468-9ade-62e0355760b5",
   "metadata": {
    "tags": []
   },
   "outputs": [],
   "source": [
    "%%time\n",
    "\n",
    "# find record by nodeID, recursively iterate five levels deep\n",
    "recurse_query = \"\"\"\n",
    "{\n",
    "    q(func: eq(Record.nodeID, [\"236724\"])) @recurse(depth: 5) {\n",
    "        # predicates to return for each recurse\n",
    "        id: Record.nodeID\n",
    "        name: Record.name\n",
    "        type: <dgraph.type>\n",
    "        \n",
    "        # predicates to loop through\n",
    "        addressFor: Record.addressFor(first: 30)\n",
    "        hasOfficer: Record.hasOfficer\n",
    "        hasIntermediary: Record.hasIntermediary\n",
    "        connectedTo: RecordRecord.connectedTo  \n",
    "    }\n",
    "}\n",
    "\"\"\"\n",
    "\n",
    "nodes = {}\n",
    "edges = []\n",
    "\n",
    "txn = client.txn(read_only=True)\n",
    "try:\n",
    "    res = txn.query(query=recurse_query)\n",
    "    results = json.loads(res.json)\n",
    "    extract_dict(nodes, edges, results)\n",
    "finally:\n",
    "    txn.discard()\n",
    "\n",
    "recurse_viz = ipycytoscape.CytoscapeWidget()\n",
    "recurse_viz.set_layout(name='cola', nodeSpacing=40, edgeLengthVal=10)\n",
    "recurse_viz.set_style(cyto_styles)\n",
    "cyto_obj = convert_to_cyto_objs(nodes, edges)\n",
    "recurse_viz.graph.add_graph_from_json(cyto_obj)\n",
    "#display\n",
    "recurse_viz"
   ]
  },
  {
   "cell_type": "markdown",
   "id": "78c823a1-654f-4b82-a71d-4d9ea0ee0c82",
   "metadata": {
    "tags": []
   },
   "source": [
    "## Mutating Dgraph"
   ]
  },
  {
   "cell_type": "code",
   "execution_count": null,
   "id": "34ed5fed-4d34-4dbb-98e6-f3994182bebe",
   "metadata": {
    "tags": []
   },
   "outputs": [],
   "source": [
    "# Update the GraphQL schema with 'flagged' predicate\n",
    "!curl --data-binary '@./schema-flagged.graphql' http://localhost:8080/admin/schema"
   ]
  },
  {
   "cell_type": "code",
   "execution_count": null,
   "id": "5680a5f1-25f4-47b8-a2e9-723b9815cff7",
   "metadata": {
    "tags": []
   },
   "outputs": [],
   "source": [
    "email = \"matthew.mcneely@gmail.com\"\n",
    "\n",
    "flagged_mutation = \"\"\"\n",
    "mutation ($input: UpdateRecordInput!) {\n",
    "  updateRecord(input: $input) {\n",
    "    numUids\n",
    "    record {\n",
    "      flagged\n",
    "    }\n",
    "  }\n",
    "}\n",
    "\"\"\"\n",
    "\n",
    "def record_click(node):\n",
    "    \"\"\" updates the Record with a flagged entry \"\"\"\n",
    "    nodeID = node['data']['id']\n",
    "    variables = {\n",
    "      \"input\": {\n",
    "        \"filter\": {\n",
    "          \"nodeID\": {\n",
    "            \"eq\": nodeID\n",
    "          }\n",
    "        },\n",
    "        \"set\": {\n",
    "          \"flagged\": [email]\n",
    "        }\n",
    "      }\n",
    "    }\n",
    "    for n in recurse_viz.graph.nodes:\n",
    "        if n.data['id'] == nodeID:\n",
    "            n.classes = 'flagged'\n",
    "    data = gql_client.execute(query=flagged_mutation, variables=variables)\n",
    "    print(data)\n"
   ]
  },
  {
   "cell_type": "code",
   "execution_count": null,
   "id": "25cca65b-113c-4138-a5e4-46a00f4353fc",
   "metadata": {
    "tags": []
   },
   "outputs": [],
   "source": [
    "recurse_query = \"\"\"\n",
    "{\n",
    "\tq(func: eq(Record.nodeID, \"236724\")) @recurse(depth: 5) {\n",
    "        # predicates to return for each recurse\n",
    "        id: Record.nodeID\n",
    "        name: Record.name\n",
    "        type: <dgraph.type>\n",
    "        flagged: Record.flagged\n",
    "        \n",
    "        # predicates to loop through\n",
    "        addressFor: Record.addressFor(first: 30)\n",
    "        hasOfficer: Record.hasOfficer\n",
    "        hasIntermediary: Record.hasIntermediary\n",
    "        connectedTo: RecordRecord.connectedTo  \n",
    "    }\n",
    "}\n",
    "\"\"\"\n",
    "\n",
    "nodes = {}\n",
    "edges = []\n",
    "\n",
    "txn = client.txn(read_only=True)\n",
    "try:\n",
    "    res = txn.query(query=recurse_query)\n",
    "    results = json.loads(res.json)\n",
    "    extract_dict(nodes, edges, results)\n",
    "finally:\n",
    "    txn.discard()\n",
    "\n",
    "recurse_viz = ipycytoscape.CytoscapeWidget()\n",
    "recurse_viz.set_layout(name='cola', nodeSpacing=40, edgeLengthVal=10)\n",
    "recurse_viz.set_style(cyto_styles)\n",
    "cyto_obj = convert_to_cyto_objs(nodes, edges)\n",
    "recurse_viz.graph.add_graph_from_json(cyto_obj)\n",
    "recurse_viz.on('node', 'click', record_click)\n",
    "#display\n",
    "recurse_viz"
   ]
  },
  {
   "cell_type": "code",
   "execution_count": null,
   "id": "105649bb-7253-4406-abbe-19c2453e5eb0",
   "metadata": {
    "tags": []
   },
   "outputs": [],
   "source": [
    "# Locate all the flagged records in the graph and recurse their edges to a depth of 7\n",
    "\n",
    "recurse_flagged_query = \"\"\"\n",
    "{\n",
    "\tq(func: has(Record.flagged)) @recurse(depth: 3) {\n",
    "        # predicates to return for each recurse\n",
    "        id: Record.nodeID\n",
    "        name: Record.name\n",
    "        type: <dgraph.type>\n",
    "        flagged: Record.flagged\n",
    "        \n",
    "        # predicates to loop through\n",
    "        addressFor: Record.addressFor(first:10)\n",
    "        hasAddress: Record.hasAddress(first:10)\n",
    "        officerFor: Record.officerFor(first:10)\n",
    "        hasOfficer: Record.hasOfficer(first:10)\n",
    "        intermediaryFor: Record.intermediaryFor(first:10)\n",
    "        hasIntermediary: Record.hasIntermediary(first:10)\n",
    "        connectedTo: RecordRecord.connectedTo(first:10)  \n",
    "    }\n",
    "}\n",
    "\"\"\"\n",
    "\n",
    "nodes = {}\n",
    "edges = []\n",
    "\n",
    "txn = client.txn(read_only=True)\n",
    "try:\n",
    "    res = txn.query(query=recurse_flagged_query)\n",
    "    results = json.loads(res.json)\n",
    "    extract_dict(nodes, edges, results)\n",
    "finally:\n",
    "    txn.discard()\n",
    "\n",
    "flagged_recurse_viz = ipycytoscape.CytoscapeWidget()\n",
    "flagged_recurse_viz.set_layout(name='cola', nodeSpacing=40, edgeLengthVal=10)\n",
    "flagged_recurse_viz.set_style(cyto_styles)\n",
    "cyto_obj = convert_to_cyto_objs(nodes, edges)\n",
    "flagged_recurse_viz.graph.add_graph_from_json(cyto_obj)\n",
    "flagged_recurse_viz.on('node', 'click', record_click)\n",
    "#display\n",
    "flagged_recurse_viz"
   ]
  },
  {
   "cell_type": "code",
   "execution_count": null,
   "id": "d6385d47-3533-4084-916a-c95295f35022",
   "metadata": {},
   "outputs": [],
   "source": [
    "---- time check T+80m ----"
   ]
  }
 ],
 "metadata": {
  "kernelspec": {
   "display_name": "Python 3 (ipykernel)",
   "language": "python",
   "name": "python3"
  },
  "language_info": {
   "codemirror_mode": {
    "name": "ipython",
    "version": 3
   },
   "file_extension": ".py",
   "mimetype": "text/x-python",
   "name": "python",
   "nbconvert_exporter": "python",
   "pygments_lexer": "ipython3",
   "version": "3.11.3"
  }
 },
 "nbformat": 4,
 "nbformat_minor": 5
}
